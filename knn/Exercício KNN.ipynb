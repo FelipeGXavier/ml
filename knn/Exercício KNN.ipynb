{
 "cells": [
  {
   "cell_type": "markdown",
   "id": "596a9ea0",
   "metadata": {},
   "source": [
    "# Classificador de câncer de mama"
   ]
  },
  {
   "cell_type": "markdown",
   "id": "21e0ded0",
   "metadata": {},
   "source": [
    "Neste projeto, usaremos um classificador K-Nearest Neighbor para prever se um paciente tem câncer de mama."
   ]
  },
  {
   "cell_type": "markdown",
   "id": "b59beab8",
   "metadata": {},
   "source": [
    "### Carregando o conjunto de dados"
   ]
  },
  {
   "cell_type": "markdown",
   "id": "8effc9a5",
   "metadata": {},
   "source": [
    "Vamos obter os dados de cancêr de mama do próprio `sklearn` importando a função `load_breast_cancer` do `sklearn.datasets` "
   ]
  },
  {
   "cell_type": "code",
   "execution_count": 55,
   "id": "4267da2b",
   "metadata": {},
   "outputs": [],
   "source": [
    "from sklearn.datasets import load_breast_cancer"
   ]
  },
  {
   "cell_type": "markdown",
   "id": "36f4bffb",
   "metadata": {},
   "source": [
    "**1.** Depois de importar o conjunto de dados, vamos carregar os dados em uma variável chamada `dados_cancer_mama`. Faça isso configurando `dados_cancer_mama` igual à função `load_breast_cancer()`."
   ]
  },
  {
   "cell_type": "code",
   "execution_count": 56,
   "id": "c3691c55",
   "metadata": {},
   "outputs": [],
   "source": [
    "dados_cancer_mama = load_breast_cancer()"
   ]
  },
  {
   "cell_type": "markdown",
   "id": "932e71fc",
   "metadata": {},
   "source": [
    "**2.** Antes de começarmos a criar nosso classificador, vamos dar uma olhada nos dados. Comece imprimindo `dados_cancer_mama.data[0]`. Esse é o primeiro ponto de dados em nosso conjunto. Mas o que todos esses números representam? Imprima também `dados_cancer_mama.feature_names`."
   ]
  },
  {
   "cell_type": "code",
   "execution_count": 57,
   "id": "8b0708aa",
   "metadata": {},
   "outputs": [
    {
     "data": {
      "text/plain": [
       "(array([1.799e+01, 1.038e+01, 1.228e+02, 1.001e+03, 1.184e-01, 2.776e-01,\n",
       "        3.001e-01, 1.471e-01, 2.419e-01, 7.871e-02, 1.095e+00, 9.053e-01,\n",
       "        8.589e+00, 1.534e+02, 6.399e-03, 4.904e-02, 5.373e-02, 1.587e-02,\n",
       "        3.003e-02, 6.193e-03, 2.538e+01, 1.733e+01, 1.846e+02, 2.019e+03,\n",
       "        1.622e-01, 6.656e-01, 7.119e-01, 2.654e-01, 4.601e-01, 1.189e-01]),\n",
       " array(['mean radius', 'mean texture', 'mean perimeter', 'mean area',\n",
       "        'mean smoothness', 'mean compactness', 'mean concavity',\n",
       "        'mean concave points', 'mean symmetry', 'mean fractal dimension',\n",
       "        'radius error', 'texture error', 'perimeter error', 'area error',\n",
       "        'smoothness error', 'compactness error', 'concavity error',\n",
       "        'concave points error', 'symmetry error',\n",
       "        'fractal dimension error', 'worst radius', 'worst texture',\n",
       "        'worst perimeter', 'worst area', 'worst smoothness',\n",
       "        'worst compactness', 'worst concavity', 'worst concave points',\n",
       "        'worst symmetry', 'worst fractal dimension'], dtype='<U23'))"
      ]
     },
     "execution_count": 57,
     "metadata": {},
     "output_type": "execute_result"
    }
   ],
   "source": [
    "dados_cancer_mama.data[0], dados_cancer_mama.feature_names"
   ]
  },
  {
   "cell_type": "markdown",
   "id": "1286a7b1",
   "metadata": {},
   "source": [
    "**3.** Agora temos uma noção de como são os dados, vamos verificar o que estamos tentando classificar? Vamos imprimir ambos `dados_cancer_mama.target` e `dados_cancer_mama.target_names`.\n",
    "\n",
    "O primeiro ponto de dados foi marcado como maligno ou benigno?"
   ]
  },
  {
   "cell_type": "code",
   "execution_count": 58,
   "id": "3e711426",
   "metadata": {},
   "outputs": [
    {
     "data": {
      "text/plain": [
       "(array([0, 0, 0, 0, 0, 0, 0, 0, 0, 0, 0, 0, 0, 0, 0, 0, 0, 0, 0, 1, 1, 1,\n",
       "        0, 0, 0, 0, 0, 0, 0, 0, 0, 0, 0, 0, 0, 0, 0, 1, 0, 0, 0, 0, 0, 0,\n",
       "        0, 0, 1, 0, 1, 1, 1, 1, 1, 0, 0, 1, 0, 0, 1, 1, 1, 1, 0, 1, 0, 0,\n",
       "        1, 1, 1, 1, 0, 1, 0, 0, 1, 0, 1, 0, 0, 1, 1, 1, 0, 0, 1, 0, 0, 0,\n",
       "        1, 1, 1, 0, 1, 1, 0, 0, 1, 1, 1, 0, 0, 1, 1, 1, 1, 0, 1, 1, 0, 1,\n",
       "        1, 1, 1, 1, 1, 1, 1, 0, 0, 0, 1, 0, 0, 1, 1, 1, 0, 0, 1, 0, 1, 0,\n",
       "        0, 1, 0, 0, 1, 1, 0, 1, 1, 0, 1, 1, 1, 1, 0, 1, 1, 1, 1, 1, 1, 1,\n",
       "        1, 1, 0, 1, 1, 1, 1, 0, 0, 1, 0, 1, 1, 0, 0, 1, 1, 0, 0, 1, 1, 1,\n",
       "        1, 0, 1, 1, 0, 0, 0, 1, 0, 1, 0, 1, 1, 1, 0, 1, 1, 0, 0, 1, 0, 0,\n",
       "        0, 0, 1, 0, 0, 0, 1, 0, 1, 0, 1, 1, 0, 1, 0, 0, 0, 0, 1, 1, 0, 0,\n",
       "        1, 1, 1, 0, 1, 1, 1, 1, 1, 0, 0, 1, 1, 0, 1, 1, 0, 0, 1, 0, 1, 1,\n",
       "        1, 1, 0, 1, 1, 1, 1, 1, 0, 1, 0, 0, 0, 0, 0, 0, 0, 0, 0, 0, 0, 0,\n",
       "        0, 0, 1, 1, 1, 1, 1, 1, 0, 1, 0, 1, 1, 0, 1, 1, 0, 1, 0, 0, 1, 1,\n",
       "        1, 1, 1, 1, 1, 1, 1, 1, 1, 1, 1, 0, 1, 1, 0, 1, 0, 1, 1, 1, 1, 1,\n",
       "        1, 1, 1, 1, 1, 1, 1, 1, 1, 0, 1, 1, 1, 0, 1, 0, 1, 1, 1, 1, 0, 0,\n",
       "        0, 1, 1, 1, 1, 0, 1, 0, 1, 0, 1, 1, 1, 0, 1, 1, 1, 1, 1, 1, 1, 0,\n",
       "        0, 0, 1, 1, 1, 1, 1, 1, 1, 1, 1, 1, 1, 0, 0, 1, 0, 0, 0, 1, 0, 0,\n",
       "        1, 1, 1, 1, 1, 0, 1, 1, 1, 1, 1, 0, 1, 1, 1, 0, 1, 1, 0, 0, 1, 1,\n",
       "        1, 1, 1, 1, 0, 1, 1, 1, 1, 1, 1, 1, 0, 1, 1, 1, 1, 1, 0, 1, 1, 0,\n",
       "        1, 1, 1, 1, 1, 1, 1, 1, 1, 1, 1, 1, 0, 1, 0, 0, 1, 0, 1, 1, 1, 1,\n",
       "        1, 0, 1, 1, 0, 1, 0, 1, 1, 0, 1, 0, 1, 1, 1, 1, 1, 1, 1, 1, 0, 0,\n",
       "        1, 1, 1, 1, 1, 1, 0, 1, 1, 1, 1, 1, 1, 1, 1, 1, 1, 0, 1, 1, 1, 1,\n",
       "        1, 1, 1, 0, 1, 0, 1, 1, 0, 1, 1, 1, 1, 1, 0, 0, 1, 0, 1, 0, 1, 1,\n",
       "        1, 1, 1, 0, 1, 1, 0, 1, 0, 1, 0, 0, 1, 1, 1, 0, 1, 1, 1, 1, 1, 1,\n",
       "        1, 1, 1, 1, 1, 0, 1, 0, 0, 1, 1, 1, 1, 1, 1, 1, 1, 1, 1, 1, 1, 1,\n",
       "        1, 1, 1, 1, 1, 1, 1, 1, 1, 1, 1, 1, 0, 0, 0, 0, 0, 0, 1]),\n",
       " array(['malignant', 'benign'], dtype='<U9'))"
      ]
     },
     "execution_count": 58,
     "metadata": {},
     "output_type": "execute_result"
    }
   ],
   "source": [
    "dados_cancer_mama.target, dados_cancer_mama.target_names"
   ]
  },
  {
   "cell_type": "markdown",
   "id": "cc31317b",
   "metadata": {},
   "source": [
    "### Dividindo os dados em conjuntos de treinamento e teste"
   ]
  },
  {
   "cell_type": "markdown",
   "id": "5a0b5f42",
   "metadata": {},
   "source": [
    "**4.** Divida os dados em conjuntos de treinamento e teste usando o método `train_test_split()` do `sklearn`. Use um `test_size` de 0.2 e `random_state = 100`. Isso garantirá que toda vez que você executar seu código, os dados sejam divididos da mesma maneira."
   ]
  },
  {
   "cell_type": "code",
   "execution_count": 59,
   "id": "9f27b4d1",
   "metadata": {},
   "outputs": [],
   "source": [
    "x, y = dados_cancer_mama.data, dados_cancer_mama.target"
   ]
  },
  {
   "cell_type": "code",
   "execution_count": 60,
   "id": "58275047",
   "metadata": {},
   "outputs": [],
   "source": [
    "from sklearn.model_selection import train_test_split\n",
    "x_train, x_test, y_train, y_test = train_test_split(x, y, test_size=0.2, random_state=100)"
   ]
  },
  {
   "cell_type": "markdown",
   "id": "f7bc9040",
   "metadata": {},
   "source": [
    "### Executando o KNN"
   ]
  },
  {
   "cell_type": "markdown",
   "id": "8388ae2a",
   "metadata": {},
   "source": [
    "**5.** Agora que criamos conjuntos de treinamento e teste, podemos criar um `KNeighborsClassifier` e testar sua precisão. Comece importando `KNeighborsClassifier` de `sklearn.neighbors`"
   ]
  },
  {
   "cell_type": "code",
   "execution_count": 61,
   "id": "f77590af",
   "metadata": {},
   "outputs": [],
   "source": [
    "from sklearn.neighbors import KNeighborsClassifier"
   ]
  },
  {
   "cell_type": "markdown",
   "id": "9aa6077a",
   "metadata": {},
   "source": [
    "**6.** Crie um `KNeighborsClassifier` onde n_neighbors = 3. Nomeie o classificador como `knn`"
   ]
  },
  {
   "cell_type": "code",
   "execution_count": 62,
   "id": "f3f69936",
   "metadata": {},
   "outputs": [],
   "source": [
    "knn = KNeighborsClassifier(n_neighbors=3)"
   ]
  },
  {
   "cell_type": "markdown",
   "id": "dd7f20cd",
   "metadata": {},
   "source": [
    "**7.** Treine seu classificador usando a função `fit`. Esta função recebe dois parâmetros: o conjunto de treinamento e os rótulos de treinamento."
   ]
  },
  {
   "cell_type": "code",
   "execution_count": 63,
   "id": "c20206e3",
   "metadata": {},
   "outputs": [
    {
     "data": {
      "text/plain": [
       "KNeighborsClassifier(n_neighbors=3)"
      ]
     },
     "execution_count": 63,
     "metadata": {},
     "output_type": "execute_result"
    }
   ],
   "source": [
    "knn.fit(x_train, y_train)"
   ]
  },
  {
   "cell_type": "markdown",
   "id": "6225814a",
   "metadata": {},
   "source": [
    "**8.** Agora que o classificador foi treinado, vamos descobrir o quão preciso ele é no conjunto de teste. Chame a função `score` do classificador. `score` recebe dois parâmetros: o conjunto de teste e os rótulos de teste. Imprima o resultado!"
   ]
  },
  {
   "cell_type": "code",
   "execution_count": 64,
   "id": "0051a328",
   "metadata": {},
   "outputs": [
    {
     "data": {
      "text/plain": [
       "0.9473684210526315"
      ]
     },
     "execution_count": 64,
     "metadata": {},
     "output_type": "execute_result"
    }
   ],
   "source": [
    "knn.score(x_test, y_test)"
   ]
  },
  {
   "cell_type": "markdown",
   "id": "ea18d110",
   "metadata": {},
   "source": [
    "**9.** O classificador se sai muito bem quando `k = 3`. Mas talvez haja um `k` melhor. Teste o classificador knn com valores de `k` de `1` até `100`.\n",
    "Qual `k` apresenta o melhor resultado?"
   ]
  },
  {
   "cell_type": "code",
   "execution_count": 65,
   "id": "d0f0f588",
   "metadata": {},
   "outputs": [
    {
     "data": {
      "text/plain": [
       "[{'k': 23, 'score': 0.9649122807017544},\n",
       " {'k': 24, 'score': 0.9649122807017544},\n",
       " {'k': 56, 'score': 0.9649122807017544},\n",
       " {'k': 9, 'score': 0.956140350877193},\n",
       " {'k': 10, 'score': 0.956140350877193},\n",
       " {'k': 11, 'score': 0.956140350877193},\n",
       " {'k': 12, 'score': 0.956140350877193},\n",
       " {'k': 13, 'score': 0.956140350877193},\n",
       " {'k': 14, 'score': 0.956140350877193},\n",
       " {'k': 15, 'score': 0.956140350877193},\n",
       " {'k': 16, 'score': 0.956140350877193},\n",
       " {'k': 17, 'score': 0.956140350877193},\n",
       " {'k': 18, 'score': 0.956140350877193},\n",
       " {'k': 19, 'score': 0.956140350877193},\n",
       " {'k': 20, 'score': 0.956140350877193},\n",
       " {'k': 21, 'score': 0.956140350877193},\n",
       " {'k': 22, 'score': 0.956140350877193},\n",
       " {'k': 25, 'score': 0.956140350877193},\n",
       " {'k': 26, 'score': 0.956140350877193},\n",
       " {'k': 27, 'score': 0.956140350877193},\n",
       " {'k': 28, 'score': 0.956140350877193},\n",
       " {'k': 37, 'score': 0.956140350877193},\n",
       " {'k': 38, 'score': 0.956140350877193},\n",
       " {'k': 39, 'score': 0.956140350877193},\n",
       " {'k': 40, 'score': 0.956140350877193},\n",
       " {'k': 41, 'score': 0.956140350877193},\n",
       " {'k': 42, 'score': 0.956140350877193},\n",
       " {'k': 43, 'score': 0.956140350877193},\n",
       " {'k': 45, 'score': 0.956140350877193},\n",
       " {'k': 47, 'score': 0.956140350877193},\n",
       " {'k': 48, 'score': 0.956140350877193},\n",
       " {'k': 49, 'score': 0.956140350877193},\n",
       " {'k': 50, 'score': 0.956140350877193},\n",
       " {'k': 54, 'score': 0.956140350877193},\n",
       " {'k': 55, 'score': 0.956140350877193},\n",
       " {'k': 3, 'score': 0.9473684210526315},\n",
       " {'k': 4, 'score': 0.9473684210526315},\n",
       " {'k': 5, 'score': 0.9473684210526315},\n",
       " {'k': 6, 'score': 0.9473684210526315},\n",
       " {'k': 7, 'score': 0.9473684210526315},\n",
       " {'k': 8, 'score': 0.9473684210526315},\n",
       " {'k': 29, 'score': 0.9473684210526315},\n",
       " {'k': 30, 'score': 0.9473684210526315},\n",
       " {'k': 31, 'score': 0.9473684210526315},\n",
       " {'k': 32, 'score': 0.9473684210526315},\n",
       " {'k': 33, 'score': 0.9473684210526315},\n",
       " {'k': 34, 'score': 0.9473684210526315},\n",
       " {'k': 35, 'score': 0.9473684210526315},\n",
       " {'k': 36, 'score': 0.9473684210526315},\n",
       " {'k': 44, 'score': 0.9473684210526315},\n",
       " {'k': 46, 'score': 0.9473684210526315},\n",
       " {'k': 51, 'score': 0.9473684210526315},\n",
       " {'k': 52, 'score': 0.9473684210526315},\n",
       " {'k': 53, 'score': 0.9473684210526315},\n",
       " {'k': 57, 'score': 0.9473684210526315},\n",
       " {'k': 58, 'score': 0.9473684210526315},\n",
       " {'k': 63, 'score': 0.9473684210526315},\n",
       " {'k': 2, 'score': 0.9385964912280702},\n",
       " {'k': 59, 'score': 0.9385964912280702},\n",
       " {'k': 62, 'score': 0.9385964912280702},\n",
       " {'k': 64, 'score': 0.9385964912280702},\n",
       " {'k': 65, 'score': 0.9385964912280702},\n",
       " {'k': 66, 'score': 0.9385964912280702},\n",
       " {'k': 67, 'score': 0.9385964912280702},\n",
       " {'k': 68, 'score': 0.9385964912280702},\n",
       " {'k': 69, 'score': 0.9385964912280702},\n",
       " {'k': 70, 'score': 0.9385964912280702},\n",
       " {'k': 71, 'score': 0.9385964912280702},\n",
       " {'k': 72, 'score': 0.9385964912280702},\n",
       " {'k': 73, 'score': 0.9385964912280702},\n",
       " {'k': 74, 'score': 0.9385964912280702},\n",
       " {'k': 75, 'score': 0.9385964912280702},\n",
       " {'k': 76, 'score': 0.9385964912280702},\n",
       " {'k': 84, 'score': 0.9385964912280702},\n",
       " {'k': 86, 'score': 0.9385964912280702},\n",
       " {'k': 87, 'score': 0.9385964912280702},\n",
       " {'k': 88, 'score': 0.9385964912280702},\n",
       " {'k': 92, 'score': 0.9385964912280702},\n",
       " {'k': 96, 'score': 0.9385964912280702},\n",
       " {'k': 98, 'score': 0.9385964912280702},\n",
       " {'k': 1, 'score': 0.9298245614035088},\n",
       " {'k': 60, 'score': 0.9298245614035088},\n",
       " {'k': 61, 'score': 0.9298245614035088},\n",
       " {'k': 77, 'score': 0.9298245614035088},\n",
       " {'k': 78, 'score': 0.9298245614035088},\n",
       " {'k': 79, 'score': 0.9298245614035088},\n",
       " {'k': 80, 'score': 0.9298245614035088},\n",
       " {'k': 82, 'score': 0.9298245614035088},\n",
       " {'k': 85, 'score': 0.9298245614035088},\n",
       " {'k': 89, 'score': 0.9298245614035088},\n",
       " {'k': 90, 'score': 0.9298245614035088},\n",
       " {'k': 94, 'score': 0.9298245614035088},\n",
       " {'k': 95, 'score': 0.9298245614035088},\n",
       " {'k': 97, 'score': 0.9298245614035088},\n",
       " {'k': 99, 'score': 0.9298245614035088},\n",
       " {'k': 81, 'score': 0.9210526315789473},\n",
       " {'k': 83, 'score': 0.9210526315789473},\n",
       " {'k': 91, 'score': 0.9210526315789473},\n",
       " {'k': 93, 'score': 0.9210526315789473}]"
      ]
     },
     "execution_count": 65,
     "metadata": {},
     "output_type": "execute_result"
    }
   ],
   "source": [
    "data = []\n",
    "\n",
    "for k in range(1,100):\n",
    "    knn = KNeighborsClassifier(n_neighbors=k)\n",
    "    knn.fit(x_train, y_train)\n",
    "    data.append({'k': k, 'score': knn.score(x_test, y_test)})\n",
    "\n",
    "data.sort(key=lambda x: x['score'], reverse=True)\n",
    "data"
   ]
  },
  {
   "cell_type": "markdown",
   "id": "edb15b9f",
   "metadata": {},
   "source": [
    "### Apresentando os resultados"
   ]
  },
  {
   "cell_type": "markdown",
   "id": "340b022a",
   "metadata": {},
   "source": [
    "**10.** Agora temos a precisão para 100 `k`s diferentes. Em vez de apenas imprimir, vamos fazer um gráfico usando `matplotlib`\n",
    "\n",
    "O eixo x deve ser os valores `k` que testamos. Esta deve ser uma lista de números entre 1 e 100.\n",
    "\n",
    "O eixo y do nosso gráfico deve ser a precisão do conjunto de teste."
   ]
  },
  {
   "cell_type": "code",
   "execution_count": 69,
   "id": "ece0a050",
   "metadata": {},
   "outputs": [
    {
     "data": {
      "image/png": "[encoded data removed]",
      "text/plain": [
       "<Figure size 432x288 with 1 Axes>"
      ]
     },
     "metadata": {
      "needs_background": "light"
     },
     "output_type": "display_data"
    }
   ],
   "source": [
    "import numpy as np\n",
    "import matplotlib.pyplot as plt\n",
    "\n",
    "predict = list(map(lambda k: k['score'], data))\n",
    "\n",
    "plt.plot(np.arange(1, 100), predict)\n",
    "plt.xlabel('k')\n",
    "plt.ylabel('Acurácia')\n",
    "plt.show();"
   ]
  },
  {
   "cell_type": "markdown",
   "id": "70df6e28",
   "metadata": {},
   "source": [
    "**11.** Imprima a matriz de confusão, utilizando os dados do conjunto de teste, do modelo com o `k` que obteve o maior `score` ."
   ]
  },
  {
   "cell_type": "code",
   "execution_count": 67,
   "id": "5d6fe736",
   "metadata": {},
   "outputs": [
    {
     "name": "stdout",
     "output_type": "stream",
     "text": [
      "              precision    recall  f1-score   support\n",
      "\n",
      "           0       0.94      0.98      0.96        49\n",
      "           1       0.98      0.95      0.97        65\n",
      "\n",
      "    accuracy                           0.96       114\n",
      "   macro avg       0.96      0.97      0.96       114\n",
      "weighted avg       0.97      0.96      0.96       114\n",
      "\n"
     ]
    }
   ],
   "source": [
    "from sklearn.metrics import classification_report\n",
    "\n",
    "k_best_fit = data[0]['k']\n",
    "knn = KNeighborsClassifier(n_neighbors=k_best_fit)\n",
    "knn.fit(x_train, y_train)\n",
    "\n",
    "predict = knn.predict(x_test)\n",
    "\n",
    "print(classification_report(y_test, predict))\n"
   ]
  },
  {
   "cell_type": "code",
   "execution_count": 68,
   "id": "22124922",
   "metadata": {},
   "outputs": [
    {
     "data": {
      "text/plain": [
       "<sklearn.metrics._plot.confusion_matrix.ConfusionMatrixDisplay at 0x7f9d4ad87130>"
      ]
     },
     "execution_count": 68,
     "metadata": {},
     "output_type": "execute_result"
    },
    {
     "data": {
      "image/png": "[encoded data removed]",
      "text/plain": [
       "<Figure size 432x288 with 2 Axes>"
      ]
     },
     "metadata": {
      "needs_background": "light"
     },
     "output_type": "display_data"
    }
   ],
   "source": [
    "from sklearn.metrics import confusion_matrix\n",
    "from sklearn.metrics import ConfusionMatrixDisplay\n",
    "\n",
    "c_matrix = confusion_matrix(y_test,predict)\n",
    "c_matrix_display = ConfusionMatrixDisplay(confusion_matrix=c_matrix,display_labels = [\"benigno\",\"maligno\"])\n",
    "c_matrix_display.plot()"
   ]
  }
 ],
 "metadata": {
  "kernelspec": {
   "display_name": "Python 3.10.4 64-bit",
   "language": "python",
   "name": "python3"
  },
  "language_info": {
   "codemirror_mode": {
    "name": "ipython",
    "version": 3
   },
   "file_extension": ".py",
   "mimetype": "text/x-python",
   "name": "python",
   "nbconvert_exporter": "python",
   "pygments_lexer": "ipython3",
   "version": "3.8.10"
  },
  "vscode": {
   "interpreter": {
    "hash": "916dbcbb3f70747c44a77c7bcd40155683ae19c65e1c03b4aa3499c5328201f1"
   }
  }
 },
 "nbformat": 4,
 "nbformat_minor": 5
}
