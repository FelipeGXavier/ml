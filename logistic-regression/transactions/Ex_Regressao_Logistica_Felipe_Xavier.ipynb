{
 "cells": [
  {
   "cell_type": "markdown",
   "id": "2f82fc07",
   "metadata": {},
   "source": [
    "# Prevendo fraudes de cartão de crédito"
   ]
  },
  {
   "cell_type": "markdown",
   "id": "12e5fa5a",
   "metadata": {},
   "source": [
    "A fraude de cartão de crédito é uma das principais causas de roubo de identidade em todo o mundo. As instituições financeiras empregam uma grande variedade de técnicas diferentes para prevenir fraudes, sendo uma das mais comuns a Regressão Logística."
   ]
  },
  {
   "cell_type": "markdown",
   "id": "0472b45f",
   "metadata": {},
   "source": [
    "Neste projeto, você é um Cientista de Dados que trabalha para uma empresa de cartão de crédito. Você tem acesso a um conjunto de dados, que representa um conjunto típico de transações de cartão de crédito. Sua tarefa é usar a regressão logística e criar um modelo preditivo para determinar se uma transação é fraudulenta ou não."
   ]
  },
  {
   "cell_type": "code",
   "execution_count": 2,
   "id": "e8691c23",
   "metadata": {},
   "outputs": [],
   "source": [
    "import seaborn as sns\n",
    "import pandas as pd\n",
    "import numpy as np\n",
    "import matplotlib.pyplot as plt\n",
    "from sklearn.linear_model import LogisticRegression\n",
    "from sklearn.model_selection import train_test_split\n",
    "from sklearn.preprocessing import StandardScaler"
   ]
  },
  {
   "cell_type": "markdown",
   "id": "8369e89a",
   "metadata": {},
   "source": [
    "### Carregar os dados"
   ]
  },
  {
   "cell_type": "markdown",
   "id": "6bf047f7",
   "metadata": {},
   "source": [
    "**1.** O arquivo `Transações.csv` contém dados de 200 mil transações de cartão de crédito simuladas. Comece carregando os dados em um DataFrame pandas chamado `transacoes`. Imprima algumas linhas e a contagem total de linhas. "
   ]
  },
  {
   "cell_type": "code",
   "execution_count": 3,
   "id": "9580c03e",
   "metadata": {},
   "outputs": [
    {
     "data": {
      "text/html": [
       "<div>\n",
       "<style scoped>\n",
       "    .dataframe tbody tr th:only-of-type {\n",
       "        vertical-align: middle;\n",
       "    }\n",
       "\n",
       "    .dataframe tbody tr th {\n",
       "        vertical-align: top;\n",
       "    }\n",
       "\n",
       "    .dataframe thead th {\n",
       "        text-align: right;\n",
       "    }\n",
       "</style>\n",
       "<table border=\"1\" class=\"dataframe\">\n",
       "  <thead>\n",
       "    <tr style=\"text-align: right;\">\n",
       "      <th></th>\n",
       "      <th>step</th>\n",
       "      <th>type</th>\n",
       "      <th>amount</th>\n",
       "      <th>nameOrig</th>\n",
       "      <th>oldbalanceOrg</th>\n",
       "      <th>newbalanceOrig</th>\n",
       "      <th>nameDest</th>\n",
       "      <th>oldbalanceDest</th>\n",
       "      <th>newbalanceDest</th>\n",
       "      <th>isFraud</th>\n",
       "    </tr>\n",
       "  </thead>\n",
       "  <tbody>\n",
       "    <tr>\n",
       "      <th>0</th>\n",
       "      <td>8</td>\n",
       "      <td>CASH_OUT</td>\n",
       "      <td>158007.12</td>\n",
       "      <td>C424875646</td>\n",
       "      <td>0.00</td>\n",
       "      <td>0.00</td>\n",
       "      <td>C1298177219</td>\n",
       "      <td>474016.32</td>\n",
       "      <td>1618631.97</td>\n",
       "      <td>0</td>\n",
       "    </tr>\n",
       "    <tr>\n",
       "      <th>1</th>\n",
       "      <td>236</td>\n",
       "      <td>CASH_OUT</td>\n",
       "      <td>457948.30</td>\n",
       "      <td>C1342616552</td>\n",
       "      <td>0.00</td>\n",
       "      <td>0.00</td>\n",
       "      <td>C1323169990</td>\n",
       "      <td>2720411.37</td>\n",
       "      <td>3178359.67</td>\n",
       "      <td>0</td>\n",
       "    </tr>\n",
       "    <tr>\n",
       "      <th>2</th>\n",
       "      <td>37</td>\n",
       "      <td>CASH_IN</td>\n",
       "      <td>153602.99</td>\n",
       "      <td>C900876541</td>\n",
       "      <td>11160428.67</td>\n",
       "      <td>11314031.67</td>\n",
       "      <td>C608741097</td>\n",
       "      <td>3274930.56</td>\n",
       "      <td>3121327.56</td>\n",
       "      <td>0</td>\n",
       "    </tr>\n",
       "    <tr>\n",
       "      <th>3</th>\n",
       "      <td>331</td>\n",
       "      <td>CASH_OUT</td>\n",
       "      <td>49555.14</td>\n",
       "      <td>C177696810</td>\n",
       "      <td>10865.00</td>\n",
       "      <td>0.00</td>\n",
       "      <td>C462716348</td>\n",
       "      <td>0.00</td>\n",
       "      <td>49555.14</td>\n",
       "      <td>0</td>\n",
       "    </tr>\n",
       "    <tr>\n",
       "      <th>4</th>\n",
       "      <td>250</td>\n",
       "      <td>CASH_OUT</td>\n",
       "      <td>29648.02</td>\n",
       "      <td>C788941490</td>\n",
       "      <td>0.00</td>\n",
       "      <td>0.00</td>\n",
       "      <td>C1971700992</td>\n",
       "      <td>56933.09</td>\n",
       "      <td>86581.10</td>\n",
       "      <td>0</td>\n",
       "    </tr>\n",
       "    <tr>\n",
       "      <th>5</th>\n",
       "      <td>182</td>\n",
       "      <td>PAYMENT</td>\n",
       "      <td>15712.66</td>\n",
       "      <td>C365217190</td>\n",
       "      <td>13981.00</td>\n",
       "      <td>0.00</td>\n",
       "      <td>M1108542644</td>\n",
       "      <td>0.00</td>\n",
       "      <td>0.00</td>\n",
       "      <td>0</td>\n",
       "    </tr>\n",
       "    <tr>\n",
       "      <th>6</th>\n",
       "      <td>355</td>\n",
       "      <td>PAYMENT</td>\n",
       "      <td>357.15</td>\n",
       "      <td>C1752574405</td>\n",
       "      <td>283349.71</td>\n",
       "      <td>282992.56</td>\n",
       "      <td>M807801422</td>\n",
       "      <td>0.00</td>\n",
       "      <td>0.00</td>\n",
       "      <td>0</td>\n",
       "    </tr>\n",
       "    <tr>\n",
       "      <th>7</th>\n",
       "      <td>302</td>\n",
       "      <td>PAYMENT</td>\n",
       "      <td>19477.23</td>\n",
       "      <td>C1681583142</td>\n",
       "      <td>0.00</td>\n",
       "      <td>0.00</td>\n",
       "      <td>M911688965</td>\n",
       "      <td>0.00</td>\n",
       "      <td>0.00</td>\n",
       "      <td>0</td>\n",
       "    </tr>\n",
       "    <tr>\n",
       "      <th>8</th>\n",
       "      <td>35</td>\n",
       "      <td>PAYMENT</td>\n",
       "      <td>56554.20</td>\n",
       "      <td>C643126692</td>\n",
       "      <td>503065.44</td>\n",
       "      <td>446511.24</td>\n",
       "      <td>M1453972991</td>\n",
       "      <td>0.00</td>\n",
       "      <td>0.00</td>\n",
       "      <td>0</td>\n",
       "    </tr>\n",
       "    <tr>\n",
       "      <th>9</th>\n",
       "      <td>156</td>\n",
       "      <td>CASH_OUT</td>\n",
       "      <td>180660.51</td>\n",
       "      <td>C106721885</td>\n",
       "      <td>10044.00</td>\n",
       "      <td>0.00</td>\n",
       "      <td>C1944402764</td>\n",
       "      <td>32319.16</td>\n",
       "      <td>212979.67</td>\n",
       "      <td>0</td>\n",
       "    </tr>\n",
       "  </tbody>\n",
       "</table>\n",
       "</div>"
      ],
      "text/plain": [
       "   step      type     amount     nameOrig  oldbalanceOrg  newbalanceOrig  \\\n",
       "0     8  CASH_OUT  158007.12   C424875646           0.00            0.00   \n",
       "1   236  CASH_OUT  457948.30  C1342616552           0.00            0.00   \n",
       "2    37   CASH_IN  153602.99   C900876541    11160428.67     11314031.67   \n",
       "3   331  CASH_OUT   49555.14   C177696810       10865.00            0.00   \n",
       "4   250  CASH_OUT   29648.02   C788941490           0.00            0.00   \n",
       "5   182   PAYMENT   15712.66   C365217190       13981.00            0.00   \n",
       "6   355   PAYMENT     357.15  C1752574405      283349.71       282992.56   \n",
       "7   302   PAYMENT   19477.23  C1681583142           0.00            0.00   \n",
       "8    35   PAYMENT   56554.20   C643126692      503065.44       446511.24   \n",
       "9   156  CASH_OUT  180660.51   C106721885       10044.00            0.00   \n",
       "\n",
       "      nameDest  oldbalanceDest  newbalanceDest  isFraud  \n",
       "0  C1298177219       474016.32      1618631.97        0  \n",
       "1  C1323169990      2720411.37      3178359.67        0  \n",
       "2   C608741097      3274930.56      3121327.56        0  \n",
       "3   C462716348            0.00        49555.14        0  \n",
       "4  C1971700992        56933.09        86581.10        0  \n",
       "5  M1108542644            0.00            0.00        0  \n",
       "6   M807801422            0.00            0.00        0  \n",
       "7   M911688965            0.00            0.00        0  \n",
       "8  M1453972991            0.00            0.00        0  \n",
       "9  C1944402764        32319.16       212979.67        0  "
      ]
     },
     "execution_count": 3,
     "metadata": {},
     "output_type": "execute_result"
    }
   ],
   "source": [
    "transacoes = pd.read_csv('Transações.csv')\n",
    "transacoes.head(10)"
   ]
  },
  {
   "cell_type": "markdown",
   "id": "9361fe15",
   "metadata": {},
   "source": [
    "### Limpe os dados"
   ]
  },
  {
   "cell_type": "markdown",
   "id": "af632c91",
   "metadata": {},
   "source": [
    "**2.** Olhando para o conjunto de dados, combinado com nosso conhecimento de transações de cartão de crédito em geral, podemos ver que existem algumas colunas interessantes para serem observadas. Sabemos que a coluna `amount`(quantia) de uma determinada transação será importante. Calcule estatísticas de resumo para esta coluna. Como é a distribuição?"
   ]
  },
  {
   "cell_type": "code",
   "execution_count": 4,
   "id": "745ad69d",
   "metadata": {},
   "outputs": [
    {
     "data": {
      "text/plain": [
       "count    1.999990e+05\n",
       "mean     1.802425e+05\n",
       "std      6.255482e+05\n",
       "min      0.000000e+00\n",
       "25%      1.338746e+04\n",
       "50%      7.426695e+04\n",
       "75%      2.086376e+05\n",
       "max      5.204280e+07\n",
       "Name: amount, dtype: float64"
      ]
     },
     "execution_count": 4,
     "metadata": {},
     "output_type": "execute_result"
    }
   ],
   "source": [
    "transacoes['amount'].describe()"
   ]
  },
  {
   "cell_type": "markdown",
   "id": "3d1efe60",
   "metadata": {},
   "source": [
    "**3.** Temos muitas informações sobre o tipo (`type`) de transação que estamos analisando. Crie uma nova coluna chamada `é_Pagamento` que atribui um `1` quando `type` é “PAYMENT” ou “DEBIT” e `0` caso de outro tipo."
   ]
  },
  {
   "cell_type": "code",
   "execution_count": 5,
   "id": "e7b66939",
   "metadata": {},
   "outputs": [
    {
     "data": {
      "text/plain": [
       "0         0\n",
       "1         0\n",
       "2         0\n",
       "3         0\n",
       "4         0\n",
       "         ..\n",
       "199994    1\n",
       "199995    0\n",
       "199996    0\n",
       "199997    0\n",
       "199998    0\n",
       "Name: é_pagamento, Length: 199999, dtype: int64"
      ]
     },
     "execution_count": 5,
     "metadata": {},
     "output_type": "execute_result"
    }
   ],
   "source": [
    "def is_payment_condition(value):\n",
    "    if value.lower() == 'payment' or value.lower() == 'debit':\n",
    "        return 1\n",
    "    return 0\n",
    "\n",
    "transacoes['é_pagamento'] = transacoes['type'].apply(is_payment_condition)\n",
    "transacoes['é_pagamento']"
   ]
  },
  {
   "cell_type": "markdown",
   "id": "6fc13d2c",
   "metadata": {},
   "source": [
    "**4.** Da mesma forma, crie uma coluna chamada `é_movimentação`, que capturará se o dinheiro saiu da conta de origem. Esta coluna terá um valor de 1 quando `type` for “CASH_OUT” ou “TRANSFER”, e 0 caso contrário."
   ]
  },
  {
   "cell_type": "code",
   "execution_count": 6,
   "id": "7356c49b",
   "metadata": {},
   "outputs": [
    {
     "data": {
      "text/plain": [
       "0         1\n",
       "1         1\n",
       "2         0\n",
       "3         1\n",
       "4         1\n",
       "         ..\n",
       "199994    0\n",
       "199995    1\n",
       "199996    0\n",
       "199997    0\n",
       "199998    1\n",
       "Name: é_movimentação, Length: 199999, dtype: int64"
      ]
     },
     "execution_count": 6,
     "metadata": {},
     "output_type": "execute_result"
    }
   ],
   "source": [
    "def is_movement(value):\n",
    "    if value.lower() == 'cash_out' or value.lower() == 'transfer':\n",
    "        return 1\n",
    "    return 0\n",
    "\n",
    "transacoes['é_movimentação'] = transacoes['type'].apply(is_movement)\n",
    "transacoes['é_movimentação']"
   ]
  },
  {
   "cell_type": "markdown",
   "id": "955240ab",
   "metadata": {},
   "source": [
    "**5.** Em fraudes financeiras, outro fator fundamental a ser investigado seria a diferença de valor entre a conta de origem e a conta de destino. A hipótese, neste caso, é que contas de destino com valor significativamente diferente podem ser suspeitas de fraude. Vamos criar uma coluna chamada `diferençaContas` com a diferença absoluta das colunas `oldbalanceOrge` e `oldbalanceDest`"
   ]
  },
  {
   "cell_type": "code",
   "execution_count": 7,
   "id": "76b8fd11",
   "metadata": {},
   "outputs": [],
   "source": [
    "# Mantém os valores negativos\n",
    "transacoes['diferençaContas'] = transacoes['oldbalanceOrg'] - transacoes['oldbalanceDest']"
   ]
  },
  {
   "cell_type": "markdown",
   "id": "bd0ce9ed",
   "metadata": {},
   "source": [
    "### Selecionar e dividir os dados"
   ]
  },
  {
   "cell_type": "markdown",
   "id": "38af3d07",
   "metadata": {},
   "source": [
    "**6.** Antes de começarmos a treinar nosso modelo, precisamos definir nossos recursos (variáveis de entrada) e a coluna que será a saída. A saída neste conjunto de dados é a coluna `isFraud`. Crie uma variável chamada `x` que será um array composto pelos seguintes campos:\n",
    "\n",
    "- `amount`\n",
    "- `é_Pagamento`\n",
    "- `é_movimentação`\n",
    "- `diferençaContas`\n",
    "\n",
    "Crie também uma variável chamada `y` com a coluna `isFraud`."
   ]
  },
  {
   "cell_type": "code",
   "execution_count": 8,
   "id": "bb07b57c",
   "metadata": {},
   "outputs": [
    {
     "name": "stdout",
     "output_type": "stream",
     "text": [
      "           amount  é_pagamento  é_movimentação  diferençaContas\n",
      "0       158007.12            0               1       -474016.32\n",
      "1       457948.30            0               1      -2720411.37\n",
      "2       153602.99            0               0       7885498.11\n",
      "3        49555.14            0               1         10865.00\n",
      "4        29648.02            0               1        -56933.09\n",
      "...           ...          ...             ...              ...\n",
      "199994    1274.97            1               0         69376.00\n",
      "199995  204041.98            0               1         40423.00\n",
      "199996   66378.61            0               0       2588672.49\n",
      "199997   87473.93            0               0       1429025.02\n",
      "199998   97305.08            0               1         21328.00\n",
      "\n",
      "[199999 rows x 4 columns] 0         0\n",
      "1         0\n",
      "2         0\n",
      "3         0\n",
      "4         0\n",
      "         ..\n",
      "199994    0\n",
      "199995    0\n",
      "199996    0\n",
      "199997    0\n",
      "199998    0\n",
      "Name: isFraud, Length: 199999, dtype: int64\n"
     ]
    }
   ],
   "source": [
    "x = transacoes[['amount', 'é_pagamento', 'é_movimentação', 'diferençaContas']]\n",
    "y = transacoes['isFraud']\n",
    "print(x, y)"
   ]
  },
  {
   "cell_type": "markdown",
   "id": "f7326a24",
   "metadata": {},
   "source": [
    "**7.** Divida os dados em conjuntos de treinamento e teste usando o método `train_test_split()` do `sklearn`. Usaremos o conjunto de treinamento para treinar o modelo e o conjunto de teste para avaliar o modelo. Use um `test_size` de 0.3."
   ]
  },
  {
   "cell_type": "code",
   "execution_count": 9,
   "id": "39e74854",
   "metadata": {},
   "outputs": [],
   "source": [
    "x_train, x_test, y_train, y_test = train_test_split(x, y, test_size=0.3)"
   ]
  },
  {
   "cell_type": "markdown",
   "id": "e1a596c1",
   "metadata": {},
   "source": [
    "### Normalize os dados"
   ]
  },
  {
   "cell_type": "markdown",
   "id": "53f5e488",
   "metadata": {},
   "source": [
    "**8.** No `sklearn` a implementação da regressão logística utiliza regularização e portanto precisamos dimencionar nossas variáveis de entrada. Crie um objeto `StandardScaler` , Utilize `.fit_transform()` nas variáveis de entrada do conjunto de treinamento e `.transform()` nas variáveis de entrada do conjunto de de teste."
   ]
  },
  {
   "cell_type": "code",
   "execution_count": 10,
   "id": "f5f93b0f",
   "metadata": {},
   "outputs": [
    {
     "name": "stdout",
     "output_type": "stream",
     "text": [
      "[[-0.26042491  1.38046694 -0.87948064  0.06148876]\n",
      " [-0.21843999 -0.72439258 -0.87948064  0.02745481]\n",
      " [-0.23928012  1.38046694 -0.87948064  0.15566546]\n",
      " ...\n",
      " [-0.28632012  1.38046694 -0.87948064  0.17971574]\n",
      " [-0.25656426  1.38046694 -0.87948064  0.06148876]\n",
      " [-0.26904846  1.38046694 -0.87948064  0.06190599]] [[-0.0956018  -0.72439258  1.1370347   0.04357373]\n",
      " [-0.28330785  1.38046694 -0.87948064  0.08741016]\n",
      " [-0.28581875  1.38046694 -0.87948064  0.0663441 ]\n",
      " ...\n",
      " [-0.12563471 -0.72439258  1.1370347  -0.09988544]\n",
      " [ 0.02240581 -0.72439258  1.1370347   0.06591501]\n",
      " [-0.28280101  1.38046694 -0.87948064  0.06148876]]\n"
     ]
    }
   ],
   "source": [
    "scale = StandardScaler()\n",
    "x_train = scale.fit_transform(X=x_train)\n",
    "x_test = scale.transform(X=x_test)\n",
    "print(x_train, x_test)"
   ]
  },
  {
   "cell_type": "markdown",
   "id": "d9f0b7cc",
   "metadata": {},
   "source": [
    "### Criar e avaliar o modelo"
   ]
  },
  {
   "cell_type": "markdown",
   "id": "f1c1abde",
   "metadata": {},
   "source": [
    "**9.** Crie um modelo de regressão logística no `sklearn`."
   ]
  },
  {
   "cell_type": "code",
   "execution_count": 11,
   "id": "f3049b89",
   "metadata": {},
   "outputs": [
    {
     "data": {
      "text/html": [
       "<style>#sk-container-id-1 {color: black;background-color: white;}#sk-container-id-1 pre{padding: 0;}#sk-container-id-1 div.sk-toggleable {background-color: white;}#sk-container-id-1 label.sk-toggleable__label {cursor: pointer;display: block;width: 100%;margin-bottom: 0;padding: 0.3em;box-sizing: border-box;text-align: center;}#sk-container-id-1 label.sk-toggleable__label-arrow:before {content: \"▸\";float: left;margin-right: 0.25em;color: #696969;}#sk-container-id-1 label.sk-toggleable__label-arrow:hover:before {color: black;}#sk-container-id-1 div.sk-estimator:hover label.sk-toggleable__label-arrow:before {color: black;}#sk-container-id-1 div.sk-toggleable__content {max-height: 0;max-width: 0;overflow: hidden;text-align: left;background-color: #f0f8ff;}#sk-container-id-1 div.sk-toggleable__content pre {margin: 0.2em;color: black;border-radius: 0.25em;background-color: #f0f8ff;}#sk-container-id-1 input.sk-toggleable__control:checked~div.sk-toggleable__content {max-height: 200px;max-width: 100%;overflow: auto;}#sk-container-id-1 input.sk-toggleable__control:checked~label.sk-toggleable__label-arrow:before {content: \"▾\";}#sk-container-id-1 div.sk-estimator input.sk-toggleable__control:checked~label.sk-toggleable__label {background-color: #d4ebff;}#sk-container-id-1 div.sk-label input.sk-toggleable__control:checked~label.sk-toggleable__label {background-color: #d4ebff;}#sk-container-id-1 input.sk-hidden--visually {border: 0;clip: rect(1px 1px 1px 1px);clip: rect(1px, 1px, 1px, 1px);height: 1px;margin: -1px;overflow: hidden;padding: 0;position: absolute;width: 1px;}#sk-container-id-1 div.sk-estimator {font-family: monospace;background-color: #f0f8ff;border: 1px dotted black;border-radius: 0.25em;box-sizing: border-box;margin-bottom: 0.5em;}#sk-container-id-1 div.sk-estimator:hover {background-color: #d4ebff;}#sk-container-id-1 div.sk-parallel-item::after {content: \"\";width: 100%;border-bottom: 1px solid gray;flex-grow: 1;}#sk-container-id-1 div.sk-label:hover label.sk-toggleable__label {background-color: #d4ebff;}#sk-container-id-1 div.sk-serial::before {content: \"\";position: absolute;border-left: 1px solid gray;box-sizing: border-box;top: 0;bottom: 0;left: 50%;z-index: 0;}#sk-container-id-1 div.sk-serial {display: flex;flex-direction: column;align-items: center;background-color: white;padding-right: 0.2em;padding-left: 0.2em;position: relative;}#sk-container-id-1 div.sk-item {position: relative;z-index: 1;}#sk-container-id-1 div.sk-parallel {display: flex;align-items: stretch;justify-content: center;background-color: white;position: relative;}#sk-container-id-1 div.sk-item::before, #sk-container-id-1 div.sk-parallel-item::before {content: \"\";position: absolute;border-left: 1px solid gray;box-sizing: border-box;top: 0;bottom: 0;left: 50%;z-index: -1;}#sk-container-id-1 div.sk-parallel-item {display: flex;flex-direction: column;z-index: 1;position: relative;background-color: white;}#sk-container-id-1 div.sk-parallel-item:first-child::after {align-self: flex-end;width: 50%;}#sk-container-id-1 div.sk-parallel-item:last-child::after {align-self: flex-start;width: 50%;}#sk-container-id-1 div.sk-parallel-item:only-child::after {width: 0;}#sk-container-id-1 div.sk-dashed-wrapped {border: 1px dashed gray;margin: 0 0.4em 0.5em 0.4em;box-sizing: border-box;padding-bottom: 0.4em;background-color: white;}#sk-container-id-1 div.sk-label label {font-family: monospace;font-weight: bold;display: inline-block;line-height: 1.2em;}#sk-container-id-1 div.sk-label-container {text-align: center;}#sk-container-id-1 div.sk-container {/* jupyter's `normalize.less` sets `[hidden] { display: none; }` but bootstrap.min.css set `[hidden] { display: none !important; }` so we also need the `!important` here to be able to override the default hidden behavior on the sphinx rendered scikit-learn.org. See: https://github.com/scikit-learn/scikit-learn/issues/21755 */display: inline-block !important;position: relative;}#sk-container-id-1 div.sk-text-repr-fallback {display: none;}</style><div id=\"sk-container-id-1\" class=\"sk-top-container\"><div class=\"sk-text-repr-fallback\"><pre>LogisticRegression()</pre><b>In a Jupyter environment, please rerun this cell to show the HTML representation or trust the notebook. <br />On GitHub, the HTML representation is unable to render, please try loading this page with nbviewer.org.</b></div><div class=\"sk-container\" hidden><div class=\"sk-item\"><div class=\"sk-estimator sk-toggleable\"><input class=\"sk-toggleable__control sk-hidden--visually\" id=\"sk-estimator-id-1\" type=\"checkbox\" checked><label for=\"sk-estimator-id-1\" class=\"sk-toggleable__label sk-toggleable__label-arrow\">LogisticRegression</label><div class=\"sk-toggleable__content\"><pre>LogisticRegression()</pre></div></div></div></div></div>"
      ],
      "text/plain": [
       "LogisticRegression()"
      ]
     },
     "execution_count": 11,
     "metadata": {},
     "output_type": "execute_result"
    }
   ],
   "source": [
    "logic_regression = LogisticRegression()\n",
    "logic_regression.fit(X=x_train, y=y_train.values.ravel());\n",
    "logic_regression"
   ]
  },
  {
   "cell_type": "markdown",
   "id": "2b679e67",
   "metadata": {},
   "source": [
    "**10.** Execute o método `.score()` do modelo nos dados de treinamento e imprima a pontuação de treinamento.\n",
    "\n",
    "A pontuação do modelo nos dados de treinamento processará os dados de treinamento por meio do modelo treinado e preverá quais transações são fraudulentas. A pontuação retornada é a porcentagem de classificações corretas ou a precisão."
   ]
  },
  {
   "cell_type": "code",
   "execution_count": 12,
   "id": "0bd032c6",
   "metadata": {},
   "outputs": [
    {
     "data": {
      "text/plain": [
       "0.9987999914285102"
      ]
     },
     "execution_count": 12,
     "metadata": {},
     "output_type": "execute_result"
    }
   ],
   "source": [
    "logic_regression.score(X=x_train, y=y_train)"
   ]
  },
  {
   "cell_type": "markdown",
   "id": "9bf952de",
   "metadata": {},
   "source": [
    "**11.** Imprima a matriz de confusão do modelo utilizando os dados do conjunto de teste."
   ]
  },
  {
   "cell_type": "code",
   "execution_count": 13,
   "id": "ee0d7f28",
   "metadata": {},
   "outputs": [
    {
     "data": {
      "text/plain": [
       "array([[59909,     1],\n",
       "       [   87,     3]])"
      ]
     },
     "execution_count": 13,
     "metadata": {},
     "output_type": "execute_result"
    }
   ],
   "source": [
    "from sklearn.metrics import ConfusionMatrixDisplay, confusion_matrix\n",
    "\n",
    "predicts = logic_regression.predict(X=x_test)\n",
    "confusion_matrix = confusion_matrix(y_test, predicts)\n",
    "confusion_matrix"
   ]
  },
  {
   "cell_type": "code",
   "execution_count": 14,
   "id": "2759dc85",
   "metadata": {},
   "outputs": [
    {
     "data": {
      "text/plain": [
       "<sklearn.metrics._plot.confusion_matrix.ConfusionMatrixDisplay at 0x7f52c8178340>"
      ]
     },
     "execution_count": 14,
     "metadata": {},
     "output_type": "execute_result"
    },
    {
     "data": {
      "image/png": "[encoded data removed]",
      "text/plain": [
       "<Figure size 640x480 with 2 Axes>"
      ]
     },
     "metadata": {},
     "output_type": "display_data"
    }
   ],
   "source": [
    "confusion_matrix_display = ConfusionMatrixDisplay(confusion_matrix=confusion_matrix, display_labels=['Fraude', 'Normal'])\n",
    "confusion_matrix_display.plot()"
   ]
  },
  {
   "cell_type": "markdown",
   "id": "04d3353f",
   "metadata": {},
   "source": [
    "**12.** Execute o método `.score()` do modelo nos dados de teste e imprima a pontuação do teste.\n",
    "\n",
    "A pontuação do modelo nos dados de teste processará os dados de teste por meio do modelo treinado e preverá quais transações são fraudulentas. A pontuação retornada é a porcentagem de classificações corretas, ou a precisão, e será um indicador do sucesso do seu modelo."
   ]
  },
  {
   "cell_type": "code",
   "execution_count": 15,
   "id": "ffceff77",
   "metadata": {},
   "outputs": [
    {
     "data": {
      "text/plain": [
       "0.9985333333333334"
      ]
     },
     "execution_count": 15,
     "metadata": {},
     "output_type": "execute_result"
    }
   ],
   "source": [
    "logic_regression.score(X=x_test, y=y_test)"
   ]
  },
  {
   "cell_type": "markdown",
   "id": "7789b298",
   "metadata": {},
   "source": [
    "**13.** Imprima os coeficientes do modelo para ver a importância de cada variável para a previsão. Qual característica foi mais importante? Menos importante?"
   ]
  },
  {
   "cell_type": "code",
   "execution_count": 16,
   "id": "d887cf44",
   "metadata": {},
   "outputs": [
    {
     "name": "stdout",
     "output_type": "stream",
     "text": [
      "[[ 0.31451958 -0.65990234  8.91810732  3.01459348]] Index(['amount', 'é_pagamento', 'é_movimentação', 'diferençaContas'], dtype='object')\n"
     ]
    }
   ],
   "source": [
    "print(logic_regression.coef_, x.columns)"
   ]
  },
  {
   "cell_type": "markdown",
   "id": "fb778917",
   "metadata": {},
   "source": [
    "**R:** A característica mais relevante é a coluna de 'é_movimentação' e a menos relevante 'diferençaContas'"
   ]
  },
  {
   "cell_type": "markdown",
   "id": "fa15629d",
   "metadata": {},
   "source": [
    "**14.** Vamos usar o modelo criado para processar mais transações que passaram por nossos sistemas. Existem três matrizes numpy abaixo com uma amostra com informações sobre novas transações “Novos dados de transação”\n",
    "\n",
    "Crie uma quarta matriz, `minha_transacao` e adicione qualquer informação de transação que desejar. Certifique-se de inserir todos os valores como `floats`."
   ]
  },
  {
   "cell_type": "code",
   "execution_count": 17,
   "id": "3f855a55",
   "metadata": {},
   "outputs": [],
   "source": [
    "# Novos dados de transação\n",
    "\n",
    "transacao1 = np.array([123456.78, 0.0, 1.0, 54670.1])\n",
    "transacao2 = np.array([98765.43, 1.0, 0.0, 8524.75])\n",
    "transacao3 = np.array([543678.31, 1.0, 0.0, 510025.5])\n",
    "\n",
    "# Crie dados de uma nova transação\n",
    "nova_transacao1 = np.array([99999.1, 0.0, 9000.0, 1000.0])\n",
    "nova_transacao2 = np.array([780.1, 0.0, 700.0, 99999.0])\n"
   ]
  },
  {
   "cell_type": "markdown",
   "id": "443a7eb0",
   "metadata": {},
   "source": [
    "**15.** Combine as novas transações e a matriz que você criou (`minha_transacao`) em uma única matriz numpy chamada `conjunto_transacoes`."
   ]
  },
  {
   "cell_type": "code",
   "execution_count": 18,
   "id": "005ed741",
   "metadata": {},
   "outputs": [],
   "source": [
    "conjunto_transacoes = np.array([transacao1, transacao2, transacao3, nova_transacao1, nova_transacao2])"
   ]
  },
  {
   "cell_type": "markdown",
   "id": "b654e758",
   "metadata": {},
   "source": [
    "**16.** Como o modelo de regressão logística foi treinado com dados padronizados, também devemos patronizar os dados sobre os quais estamos fazendo previsões. Usando o objeto `StandardScaler`  criado anteriormente, aplique o método `.transform()` na matriz `conjunto_transacoes` e salve o resultado em `conjunto_transacoes`."
   ]
  },
  {
   "cell_type": "code",
   "execution_count": 19,
   "id": "23ba9f26",
   "metadata": {},
   "outputs": [
    {
     "name": "stderr",
     "output_type": "stream",
     "text": [
      "/home/xavier/.local/lib/python3.10/site-packages/sklearn/base.py:450: UserWarning: X does not have valid feature names, but StandardScaler was fitted with feature names\n",
      "  warnings.warn(\n"
     ]
    }
   ],
   "source": [
    "conjunto_transacoes = scale.transform(conjunto_transacoes)"
   ]
  },
  {
   "cell_type": "markdown",
   "id": "49ada6c9",
   "metadata": {},
   "source": [
    "**17.** Quais transações são fraudulentas? Use o método `.predict()` do seu modelo na matriz `conjunto_transacoes` e imprima o resultado para descobrir.\n",
    "\n",
    "Quer ver as probabilidades que levaram a essas previsões? Chame o método `.predict_proba()` do seu modelo e imprima o resultado. A 1ª coluna é a probabilidade de uma transação não ser fraudulenta e a 2ª coluna é a probabilidade de uma transação ser fraudulenta (que foi calculada pelo modelo para tomar a decisão final de classificação)."
   ]
  },
  {
   "cell_type": "code",
   "execution_count": 20,
   "id": "823b6e11",
   "metadata": {},
   "outputs": [
    {
     "data": {
      "text/plain": [
       "array([0, 0, 0, 1, 1])"
      ]
     },
     "execution_count": 20,
     "metadata": {},
     "output_type": "execute_result"
    }
   ],
   "source": [
    "predicts = logic_regression.predict(X=conjunto_transacoes)\n",
    "predicts"
   ]
  },
  {
   "cell_type": "code",
   "execution_count": 21,
   "id": "f657ad0a",
   "metadata": {},
   "outputs": [
    {
     "data": {
      "text/plain": [
       "array([[9.96169382e-01, 3.83061836e-03],\n",
       "       [1.00000000e+00, 1.41931554e-11],\n",
       "       [1.00000000e+00, 2.52767419e-11],\n",
       "       [0.00000000e+00, 1.00000000e+00],\n",
       "       [0.00000000e+00, 1.00000000e+00]])"
      ]
     },
     "execution_count": 21,
     "metadata": {},
     "output_type": "execute_result"
    }
   ],
   "source": [
    "predicts_probability = logic_regression.predict_proba(X=conjunto_transacoes)\n",
    "predicts_probability"
   ]
  }
 ],
 "metadata": {
  "kernelspec": {
   "display_name": "Python 3.8.10 64-bit",
   "language": "python",
   "name": "python3"
  },
  "language_info": {
   "codemirror_mode": {
    "name": "ipython",
    "version": 3
   },
   "file_extension": ".py",
   "mimetype": "text/x-python",
   "name": "python",
   "nbconvert_exporter": "python",
   "pygments_lexer": "ipython3",
   "version": "3.10.4"
  },
  "vscode": {
   "interpreter": {
    "hash": "916dbcbb3f70747c44a77c7bcd40155683ae19c65e1c03b4aa3499c5328201f1"
   }
  }
 },
 "nbformat": 4,
 "nbformat_minor": 5
}
