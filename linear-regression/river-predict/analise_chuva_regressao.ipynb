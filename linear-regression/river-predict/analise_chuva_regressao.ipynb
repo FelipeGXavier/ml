{
 "cells": [
  {
   "cell_type": "code",
   "execution_count": 44,
   "metadata": {},
   "outputs": [],
   "source": [
    "import pandas as pd\n",
    "import numpy as np\n",
    "import matplotlib.pyplot as plt\n",
    "import seaborn as sns\n",
    "from sklearn.model_selection import train_test_split\n",
    "from sklearn.linear_model import LinearRegression\n",
    "import re\n",
    "sns.set_style('darkgrid')\n"
   ]
  },
  {
   "cell_type": "markdown",
   "metadata": {},
   "source": [
    "## Extraindo os dados"
   ]
  },
  {
   "cell_type": "code",
   "execution_count": 45,
   "metadata": {},
   "outputs": [],
   "source": [
    "level_sensor_column_name = '.........Data e Hora..........Nível (cm)'\n",
    "rain_sensor_column_name = '.........Data e Hora..........Chuva (mm)'"
   ]
  },
  {
   "cell_type": "code",
   "execution_count": 46,
   "metadata": {},
   "outputs": [],
   "source": [
    "def get_df_from_txt(filename, header, target):\n",
    "    df = pd.read_table(filename)\n",
    "    df_info = df[header].str.replace(' +', ' ', regex=True)\n",
    "    df_info = df_info.str.split(' ')\n",
    "    df['data'] = df_info.str.get(1) + \" \" + df_info.str.get(2).transform(lambda x: x.strip())\n",
    "    df[target] = df_info.str.get(3)\n",
    "    df[target] = pd.to_numeric(df[target], errors='coerce').astype('Float64')\n",
    "    df.drop(header, inplace=True, axis=1)\n",
    "    return df"
   ]
  },
  {
   "cell_type": "code",
   "execution_count": 47,
   "metadata": {},
   "outputs": [],
   "source": [
    "# Taió\n",
    "rain_taio = get_df_from_txt('83050000TAIÓ_2962005-1442014-chuva.txt', rain_sensor_column_name, 'rain_taio')\n",
    "river_level_taio = get_df_from_txt('83050000TAIÓ_2962005-1442014-nível.txt', level_sensor_column_name, 'river_level_taio')"
   ]
  },
  {
   "cell_type": "code",
   "execution_count": 48,
   "metadata": {},
   "outputs": [],
   "source": [
    "# Ituporanga\n",
    "rain_ituporanga = get_df_from_txt('83250000ITUPORANGA_3172005-1442014-chuva.txt', rain_sensor_column_name, 'rain_ituporanga')\n",
    "river_level_ituporanga = get_df_from_txt('83250000ITUPORANGA_2962005-1032014-nível.txt', level_sensor_column_name, 'river_level_ituporanga')"
   ]
  },
  {
   "cell_type": "code",
   "execution_count": 49,
   "metadata": {},
   "outputs": [],
   "source": [
    "# Rio do Sul\n",
    "river_level_rio_do_sul = get_df_from_txt('83300200RIODOSUL-NOVO_2982005-1422014 -nível.txt', level_sensor_column_name, 'river_level_rio_do_sul')"
   ]
  },
  {
   "cell_type": "code",
   "execution_count": 50,
   "metadata": {},
   "outputs": [
    {
     "name": "stdout",
     "output_type": "stream",
     "text": [
      "<class 'pandas.core.frame.DataFrame'>\n",
      "Int64Index: 138003 entries, 0 to 138004\n",
      "Data columns (total 6 columns):\n",
      " #   Column                  Non-Null Count   Dtype  \n",
      "---  ------                  --------------   -----  \n",
      " 0   data                    138003 non-null  object \n",
      " 1   rain_taio               123010 non-null  Float64\n",
      " 2   river_level_taio        107299 non-null  Float64\n",
      " 3   rain_ituporanga         114192 non-null  Float64\n",
      " 4   river_level_ituporanga  83710 non-null   Float64\n",
      " 5   river_level_rio_do_sul  117074 non-null  Float64\n",
      "dtypes: Float64(5), object(1)\n",
      "memory usage: 8.0+ MB\n"
     ]
    }
   ],
   "source": [
    "df = pd.merge(rain_taio, river_level_taio, how = 'outer')\n",
    "df = pd.merge(df, rain_ituporanga, how = 'outer')\n",
    "df = pd.merge(df, river_level_ituporanga, how = 'outer')\n",
    "df = pd.merge(df, river_level_rio_do_sul, how = 'outer')\n",
    "df = df[df.apply(lambda x: True if (len(x.data)) == 19 else False,axis=1)]\n",
    "df.info()\n"
   ]
  },
  {
   "cell_type": "code",
   "execution_count": 51,
   "metadata": {},
   "outputs": [
    {
     "data": {
      "text/html": [
       "<div>\n",
       "<style scoped>\n",
       "    .dataframe tbody tr th:only-of-type {\n",
       "        vertical-align: middle;\n",
       "    }\n",
       "\n",
       "    .dataframe tbody tr th {\n",
       "        vertical-align: top;\n",
       "    }\n",
       "\n",
       "    .dataframe thead th {\n",
       "        text-align: right;\n",
       "    }\n",
       "</style>\n",
       "<table border=\"1\" class=\"dataframe\">\n",
       "  <thead>\n",
       "    <tr style=\"text-align: right;\">\n",
       "      <th></th>\n",
       "      <th>data</th>\n",
       "      <th>rain_taio</th>\n",
       "      <th>river_level_taio</th>\n",
       "      <th>rain_ituporanga</th>\n",
       "      <th>river_level_ituporanga</th>\n",
       "      <th>river_level_rio_do_sul</th>\n",
       "    </tr>\n",
       "  </thead>\n",
       "  <tbody>\n",
       "    <tr>\n",
       "      <th>0</th>\n",
       "      <td>29/06/2005 00:00:00</td>\n",
       "      <td>&lt;NA&gt;</td>\n",
       "      <td>&lt;NA&gt;</td>\n",
       "      <td>&lt;NA&gt;</td>\n",
       "      <td>&lt;NA&gt;</td>\n",
       "      <td>&lt;NA&gt;</td>\n",
       "    </tr>\n",
       "    <tr>\n",
       "      <th>1</th>\n",
       "      <td>29/06/2005 01:00:00</td>\n",
       "      <td>&lt;NA&gt;</td>\n",
       "      <td>&lt;NA&gt;</td>\n",
       "      <td>&lt;NA&gt;</td>\n",
       "      <td>&lt;NA&gt;</td>\n",
       "      <td>&lt;NA&gt;</td>\n",
       "    </tr>\n",
       "    <tr>\n",
       "      <th>2</th>\n",
       "      <td>29/06/2005 02:00:00</td>\n",
       "      <td>&lt;NA&gt;</td>\n",
       "      <td>&lt;NA&gt;</td>\n",
       "      <td>&lt;NA&gt;</td>\n",
       "      <td>&lt;NA&gt;</td>\n",
       "      <td>&lt;NA&gt;</td>\n",
       "    </tr>\n",
       "    <tr>\n",
       "      <th>3</th>\n",
       "      <td>29/06/2005 03:00:00</td>\n",
       "      <td>&lt;NA&gt;</td>\n",
       "      <td>110.0</td>\n",
       "      <td>&lt;NA&gt;</td>\n",
       "      <td>&lt;NA&gt;</td>\n",
       "      <td>107.0</td>\n",
       "    </tr>\n",
       "    <tr>\n",
       "      <th>4</th>\n",
       "      <td>29/06/2005 04:00:00</td>\n",
       "      <td>&lt;NA&gt;</td>\n",
       "      <td>&lt;NA&gt;</td>\n",
       "      <td>&lt;NA&gt;</td>\n",
       "      <td>&lt;NA&gt;</td>\n",
       "      <td>108.0</td>\n",
       "    </tr>\n",
       "    <tr>\n",
       "      <th>5</th>\n",
       "      <td>29/06/2005 05:00:00</td>\n",
       "      <td>0.0</td>\n",
       "      <td>&lt;NA&gt;</td>\n",
       "      <td>&lt;NA&gt;</td>\n",
       "      <td>&lt;NA&gt;</td>\n",
       "      <td>106.0</td>\n",
       "    </tr>\n",
       "    <tr>\n",
       "      <th>6</th>\n",
       "      <td>29/06/2005 06:00:00</td>\n",
       "      <td>0.0</td>\n",
       "      <td>&lt;NA&gt;</td>\n",
       "      <td>&lt;NA&gt;</td>\n",
       "      <td>26.0</td>\n",
       "      <td>106.0</td>\n",
       "    </tr>\n",
       "    <tr>\n",
       "      <th>7</th>\n",
       "      <td>29/06/2005 07:00:00</td>\n",
       "      <td>0.0</td>\n",
       "      <td>&lt;NA&gt;</td>\n",
       "      <td>&lt;NA&gt;</td>\n",
       "      <td>27.0</td>\n",
       "      <td>105.0</td>\n",
       "    </tr>\n",
       "    <tr>\n",
       "      <th>8</th>\n",
       "      <td>29/06/2005 08:00:00</td>\n",
       "      <td>0.0</td>\n",
       "      <td>&lt;NA&gt;</td>\n",
       "      <td>&lt;NA&gt;</td>\n",
       "      <td>26.0</td>\n",
       "      <td>106.0</td>\n",
       "    </tr>\n",
       "    <tr>\n",
       "      <th>9</th>\n",
       "      <td>29/06/2005 09:00:00</td>\n",
       "      <td>0.0</td>\n",
       "      <td>&lt;NA&gt;</td>\n",
       "      <td>&lt;NA&gt;</td>\n",
       "      <td>27.0</td>\n",
       "      <td>105.0</td>\n",
       "    </tr>\n",
       "    <tr>\n",
       "      <th>10</th>\n",
       "      <td>29/06/2005 10:00:00</td>\n",
       "      <td>0.0</td>\n",
       "      <td>&lt;NA&gt;</td>\n",
       "      <td>&lt;NA&gt;</td>\n",
       "      <td>26.0</td>\n",
       "      <td>106.0</td>\n",
       "    </tr>\n",
       "    <tr>\n",
       "      <th>11</th>\n",
       "      <td>29/06/2005 11:00:00</td>\n",
       "      <td>0.0</td>\n",
       "      <td>110.0</td>\n",
       "      <td>&lt;NA&gt;</td>\n",
       "      <td>27.0</td>\n",
       "      <td>105.0</td>\n",
       "    </tr>\n",
       "    <tr>\n",
       "      <th>12</th>\n",
       "      <td>29/06/2005 12:00:00</td>\n",
       "      <td>0.0</td>\n",
       "      <td>&lt;NA&gt;</td>\n",
       "      <td>&lt;NA&gt;</td>\n",
       "      <td>30.0</td>\n",
       "      <td>105.0</td>\n",
       "    </tr>\n",
       "    <tr>\n",
       "      <th>13</th>\n",
       "      <td>29/06/2005 13:00:00</td>\n",
       "      <td>0.0</td>\n",
       "      <td>109.0</td>\n",
       "      <td>&lt;NA&gt;</td>\n",
       "      <td>39.0</td>\n",
       "      <td>106.0</td>\n",
       "    </tr>\n",
       "    <tr>\n",
       "      <th>14</th>\n",
       "      <td>29/06/2005 14:00:00</td>\n",
       "      <td>0.0</td>\n",
       "      <td>&lt;NA&gt;</td>\n",
       "      <td>&lt;NA&gt;</td>\n",
       "      <td>59.0</td>\n",
       "      <td>107.0</td>\n",
       "    </tr>\n",
       "    <tr>\n",
       "      <th>15</th>\n",
       "      <td>29/06/2005 15:00:00</td>\n",
       "      <td>0.0</td>\n",
       "      <td>109.0</td>\n",
       "      <td>&lt;NA&gt;</td>\n",
       "      <td>82.0</td>\n",
       "      <td>106.0</td>\n",
       "    </tr>\n",
       "    <tr>\n",
       "      <th>16</th>\n",
       "      <td>29/06/2005 16:00:00</td>\n",
       "      <td>0.0</td>\n",
       "      <td>&lt;NA&gt;</td>\n",
       "      <td>&lt;NA&gt;</td>\n",
       "      <td>&lt;NA&gt;</td>\n",
       "      <td>105.0</td>\n",
       "    </tr>\n",
       "    <tr>\n",
       "      <th>17</th>\n",
       "      <td>29/06/2005 17:00:00</td>\n",
       "      <td>0.0</td>\n",
       "      <td>&lt;NA&gt;</td>\n",
       "      <td>&lt;NA&gt;</td>\n",
       "      <td>26.0</td>\n",
       "      <td>105.0</td>\n",
       "    </tr>\n",
       "    <tr>\n",
       "      <th>18</th>\n",
       "      <td>29/06/2005 18:00:00</td>\n",
       "      <td>0.0</td>\n",
       "      <td>&lt;NA&gt;</td>\n",
       "      <td>&lt;NA&gt;</td>\n",
       "      <td>27.0</td>\n",
       "      <td>106.0</td>\n",
       "    </tr>\n",
       "    <tr>\n",
       "      <th>19</th>\n",
       "      <td>29/06/2005 19:00:00</td>\n",
       "      <td>0.0</td>\n",
       "      <td>&lt;NA&gt;</td>\n",
       "      <td>&lt;NA&gt;</td>\n",
       "      <td>30.0</td>\n",
       "      <td>107.0</td>\n",
       "    </tr>\n",
       "    <tr>\n",
       "      <th>20</th>\n",
       "      <td>29/06/2005 20:00:00</td>\n",
       "      <td>0.0</td>\n",
       "      <td>109.0</td>\n",
       "      <td>&lt;NA&gt;</td>\n",
       "      <td>39.0</td>\n",
       "      <td>108.0</td>\n",
       "    </tr>\n",
       "    <tr>\n",
       "      <th>21</th>\n",
       "      <td>29/06/2005 21:00:00</td>\n",
       "      <td>0.0</td>\n",
       "      <td>&lt;NA&gt;</td>\n",
       "      <td>&lt;NA&gt;</td>\n",
       "      <td>59.0</td>\n",
       "      <td>105.0</td>\n",
       "    </tr>\n",
       "    <tr>\n",
       "      <th>22</th>\n",
       "      <td>29/06/2005 22:00:00</td>\n",
       "      <td>0.0</td>\n",
       "      <td>109.0</td>\n",
       "      <td>&lt;NA&gt;</td>\n",
       "      <td>82.0</td>\n",
       "      <td>106.0</td>\n",
       "    </tr>\n",
       "    <tr>\n",
       "      <th>23</th>\n",
       "      <td>29/06/2005 23:00:00</td>\n",
       "      <td>0.0</td>\n",
       "      <td>&lt;NA&gt;</td>\n",
       "      <td>&lt;NA&gt;</td>\n",
       "      <td>59.0</td>\n",
       "      <td>105.0</td>\n",
       "    </tr>\n",
       "    <tr>\n",
       "      <th>24</th>\n",
       "      <td>30/06/2005 00:00:00</td>\n",
       "      <td>0.0</td>\n",
       "      <td>109.0</td>\n",
       "      <td>&lt;NA&gt;</td>\n",
       "      <td>82.0</td>\n",
       "      <td>105.0</td>\n",
       "    </tr>\n",
       "    <tr>\n",
       "      <th>25</th>\n",
       "      <td>30/06/2005 01:00:00</td>\n",
       "      <td>0.0</td>\n",
       "      <td>&lt;NA&gt;</td>\n",
       "      <td>&lt;NA&gt;</td>\n",
       "      <td>&lt;NA&gt;</td>\n",
       "      <td>106.0</td>\n",
       "    </tr>\n",
       "    <tr>\n",
       "      <th>26</th>\n",
       "      <td>30/06/2005 02:00:00</td>\n",
       "      <td>0.0</td>\n",
       "      <td>&lt;NA&gt;</td>\n",
       "      <td>&lt;NA&gt;</td>\n",
       "      <td>&lt;NA&gt;</td>\n",
       "      <td>107.0</td>\n",
       "    </tr>\n",
       "    <tr>\n",
       "      <th>27</th>\n",
       "      <td>30/06/2005 03:00:00</td>\n",
       "      <td>0.0</td>\n",
       "      <td>&lt;NA&gt;</td>\n",
       "      <td>&lt;NA&gt;</td>\n",
       "      <td>&lt;NA&gt;</td>\n",
       "      <td>108.0</td>\n",
       "    </tr>\n",
       "    <tr>\n",
       "      <th>28</th>\n",
       "      <td>30/06/2005 04:00:00</td>\n",
       "      <td>0.0</td>\n",
       "      <td>&lt;NA&gt;</td>\n",
       "      <td>&lt;NA&gt;</td>\n",
       "      <td>&lt;NA&gt;</td>\n",
       "      <td>106.0</td>\n",
       "    </tr>\n",
       "    <tr>\n",
       "      <th>29</th>\n",
       "      <td>30/06/2005 05:00:00</td>\n",
       "      <td>0.0</td>\n",
       "      <td>&lt;NA&gt;</td>\n",
       "      <td>&lt;NA&gt;</td>\n",
       "      <td>&lt;NA&gt;</td>\n",
       "      <td>105.0</td>\n",
       "    </tr>\n",
       "  </tbody>\n",
       "</table>\n",
       "</div>"
      ],
      "text/plain": [
       "                   data  rain_taio  river_level_taio  rain_ituporanga  \\\n",
       "0   29/06/2005 00:00:00       <NA>              <NA>             <NA>   \n",
       "1   29/06/2005 01:00:00       <NA>              <NA>             <NA>   \n",
       "2   29/06/2005 02:00:00       <NA>              <NA>             <NA>   \n",
       "3   29/06/2005 03:00:00       <NA>             110.0             <NA>   \n",
       "4   29/06/2005 04:00:00       <NA>              <NA>             <NA>   \n",
       "5   29/06/2005 05:00:00        0.0              <NA>             <NA>   \n",
       "6   29/06/2005 06:00:00        0.0              <NA>             <NA>   \n",
       "7   29/06/2005 07:00:00        0.0              <NA>             <NA>   \n",
       "8   29/06/2005 08:00:00        0.0              <NA>             <NA>   \n",
       "9   29/06/2005 09:00:00        0.0              <NA>             <NA>   \n",
       "10  29/06/2005 10:00:00        0.0              <NA>             <NA>   \n",
       "11  29/06/2005 11:00:00        0.0             110.0             <NA>   \n",
       "12  29/06/2005 12:00:00        0.0              <NA>             <NA>   \n",
       "13  29/06/2005 13:00:00        0.0             109.0             <NA>   \n",
       "14  29/06/2005 14:00:00        0.0              <NA>             <NA>   \n",
       "15  29/06/2005 15:00:00        0.0             109.0             <NA>   \n",
       "16  29/06/2005 16:00:00        0.0              <NA>             <NA>   \n",
       "17  29/06/2005 17:00:00        0.0              <NA>             <NA>   \n",
       "18  29/06/2005 18:00:00        0.0              <NA>             <NA>   \n",
       "19  29/06/2005 19:00:00        0.0              <NA>             <NA>   \n",
       "20  29/06/2005 20:00:00        0.0             109.0             <NA>   \n",
       "21  29/06/2005 21:00:00        0.0              <NA>             <NA>   \n",
       "22  29/06/2005 22:00:00        0.0             109.0             <NA>   \n",
       "23  29/06/2005 23:00:00        0.0              <NA>             <NA>   \n",
       "24  30/06/2005 00:00:00        0.0             109.0             <NA>   \n",
       "25  30/06/2005 01:00:00        0.0              <NA>             <NA>   \n",
       "26  30/06/2005 02:00:00        0.0              <NA>             <NA>   \n",
       "27  30/06/2005 03:00:00        0.0              <NA>             <NA>   \n",
       "28  30/06/2005 04:00:00        0.0              <NA>             <NA>   \n",
       "29  30/06/2005 05:00:00        0.0              <NA>             <NA>   \n",
       "\n",
       "    river_level_ituporanga  river_level_rio_do_sul  \n",
       "0                     <NA>                    <NA>  \n",
       "1                     <NA>                    <NA>  \n",
       "2                     <NA>                    <NA>  \n",
       "3                     <NA>                   107.0  \n",
       "4                     <NA>                   108.0  \n",
       "5                     <NA>                   106.0  \n",
       "6                     26.0                   106.0  \n",
       "7                     27.0                   105.0  \n",
       "8                     26.0                   106.0  \n",
       "9                     27.0                   105.0  \n",
       "10                    26.0                   106.0  \n",
       "11                    27.0                   105.0  \n",
       "12                    30.0                   105.0  \n",
       "13                    39.0                   106.0  \n",
       "14                    59.0                   107.0  \n",
       "15                    82.0                   106.0  \n",
       "16                    <NA>                   105.0  \n",
       "17                    26.0                   105.0  \n",
       "18                    27.0                   106.0  \n",
       "19                    30.0                   107.0  \n",
       "20                    39.0                   108.0  \n",
       "21                    59.0                   105.0  \n",
       "22                    82.0                   106.0  \n",
       "23                    59.0                   105.0  \n",
       "24                    82.0                   105.0  \n",
       "25                    <NA>                   106.0  \n",
       "26                    <NA>                   107.0  \n",
       "27                    <NA>                   108.0  \n",
       "28                    <NA>                   106.0  \n",
       "29                    <NA>                   105.0  "
      ]
     },
     "execution_count": 51,
     "metadata": {},
     "output_type": "execute_result"
    }
   ],
   "source": [
    "df.head(30)"
   ]
  },
  {
   "cell_type": "markdown",
   "metadata": {},
   "source": [
    "## Limpando os dados\n",
    "\n",
    "Linhas contendo qualquer valor nulo em uma ou mais colunas são removidas"
   ]
  },
  {
   "cell_type": "code",
   "execution_count": 52,
   "metadata": {},
   "outputs": [
    {
     "data": {
      "text/html": [
       "<div>\n",
       "<style scoped>\n",
       "    .dataframe tbody tr th:only-of-type {\n",
       "        vertical-align: middle;\n",
       "    }\n",
       "\n",
       "    .dataframe tbody tr th {\n",
       "        vertical-align: top;\n",
       "    }\n",
       "\n",
       "    .dataframe thead th {\n",
       "        text-align: right;\n",
       "    }\n",
       "</style>\n",
       "<table border=\"1\" class=\"dataframe\">\n",
       "  <thead>\n",
       "    <tr style=\"text-align: right;\">\n",
       "      <th></th>\n",
       "      <th>data</th>\n",
       "      <th>rain_taio</th>\n",
       "      <th>river_level_taio</th>\n",
       "      <th>rain_ituporanga</th>\n",
       "      <th>river_level_ituporanga</th>\n",
       "      <th>river_level_rio_do_sul</th>\n",
       "    </tr>\n",
       "  </thead>\n",
       "  <tbody>\n",
       "    <tr>\n",
       "      <th>0</th>\n",
       "      <td>2005-07-31 21:00:00</td>\n",
       "      <td>0.0</td>\n",
       "      <td>98.0</td>\n",
       "      <td>3.0</td>\n",
       "      <td>30.0</td>\n",
       "      <td>171.0</td>\n",
       "    </tr>\n",
       "    <tr>\n",
       "      <th>1</th>\n",
       "      <td>2005-07-31 22:00:00</td>\n",
       "      <td>0.0</td>\n",
       "      <td>98.0</td>\n",
       "      <td>12.0</td>\n",
       "      <td>39.0</td>\n",
       "      <td>171.0</td>\n",
       "    </tr>\n",
       "    <tr>\n",
       "      <th>2</th>\n",
       "      <td>2005-07-31 23:00:00</td>\n",
       "      <td>0.0</td>\n",
       "      <td>97.0</td>\n",
       "      <td>19.0</td>\n",
       "      <td>59.0</td>\n",
       "      <td>171.0</td>\n",
       "    </tr>\n",
       "    <tr>\n",
       "      <th>3</th>\n",
       "      <td>2005-01-08 00:00:00</td>\n",
       "      <td>0.0</td>\n",
       "      <td>97.0</td>\n",
       "      <td>5.0</td>\n",
       "      <td>82.0</td>\n",
       "      <td>170.0</td>\n",
       "    </tr>\n",
       "    <tr>\n",
       "      <th>4</th>\n",
       "      <td>2005-01-08 03:00:00</td>\n",
       "      <td>0.0</td>\n",
       "      <td>97.0</td>\n",
       "      <td>1.0</td>\n",
       "      <td>27.0</td>\n",
       "      <td>170.0</td>\n",
       "    </tr>\n",
       "    <tr>\n",
       "      <th>...</th>\n",
       "      <td>...</td>\n",
       "      <td>...</td>\n",
       "      <td>...</td>\n",
       "      <td>...</td>\n",
       "      <td>...</td>\n",
       "      <td>...</td>\n",
       "    </tr>\n",
       "    <tr>\n",
       "      <th>67114</th>\n",
       "      <td>2014-02-24 15:30:00</td>\n",
       "      <td>0.0</td>\n",
       "      <td>142.0</td>\n",
       "      <td>0.0</td>\n",
       "      <td>87.0</td>\n",
       "      <td>174.0</td>\n",
       "    </tr>\n",
       "    <tr>\n",
       "      <th>67115</th>\n",
       "      <td>2014-02-25 01:15:00</td>\n",
       "      <td>0.0</td>\n",
       "      <td>152.0</td>\n",
       "      <td>0.0</td>\n",
       "      <td>54.0</td>\n",
       "      <td>180.0</td>\n",
       "    </tr>\n",
       "    <tr>\n",
       "      <th>67116</th>\n",
       "      <td>2014-02-25 01:45:00</td>\n",
       "      <td>0.0</td>\n",
       "      <td>152.0</td>\n",
       "      <td>0.0</td>\n",
       "      <td>54.0</td>\n",
       "      <td>179.0</td>\n",
       "    </tr>\n",
       "    <tr>\n",
       "      <th>67117</th>\n",
       "      <td>2014-02-25 02:30:00</td>\n",
       "      <td>0.0</td>\n",
       "      <td>151.0</td>\n",
       "      <td>0.0</td>\n",
       "      <td>54.0</td>\n",
       "      <td>178.0</td>\n",
       "    </tr>\n",
       "    <tr>\n",
       "      <th>67118</th>\n",
       "      <td>2014-02-25 06:15:00</td>\n",
       "      <td>0.0</td>\n",
       "      <td>151.0</td>\n",
       "      <td>0.0</td>\n",
       "      <td>56.0</td>\n",
       "      <td>175.0</td>\n",
       "    </tr>\n",
       "  </tbody>\n",
       "</table>\n",
       "<p>67119 rows × 6 columns</p>\n",
       "</div>"
      ],
      "text/plain": [
       "                     data  rain_taio  river_level_taio  rain_ituporanga  \\\n",
       "0     2005-07-31 21:00:00        0.0              98.0              3.0   \n",
       "1     2005-07-31 22:00:00        0.0              98.0             12.0   \n",
       "2     2005-07-31 23:00:00        0.0              97.0             19.0   \n",
       "3     2005-01-08 00:00:00        0.0              97.0              5.0   \n",
       "4     2005-01-08 03:00:00        0.0              97.0              1.0   \n",
       "...                   ...        ...               ...              ...   \n",
       "67114 2014-02-24 15:30:00        0.0             142.0              0.0   \n",
       "67115 2014-02-25 01:15:00        0.0             152.0              0.0   \n",
       "67116 2014-02-25 01:45:00        0.0             152.0              0.0   \n",
       "67117 2014-02-25 02:30:00        0.0             151.0              0.0   \n",
       "67118 2014-02-25 06:15:00        0.0             151.0              0.0   \n",
       "\n",
       "       river_level_ituporanga  river_level_rio_do_sul  \n",
       "0                        30.0                   171.0  \n",
       "1                        39.0                   171.0  \n",
       "2                        59.0                   171.0  \n",
       "3                        82.0                   170.0  \n",
       "4                        27.0                   170.0  \n",
       "...                       ...                     ...  \n",
       "67114                    87.0                   174.0  \n",
       "67115                    54.0                   180.0  \n",
       "67116                    54.0                   179.0  \n",
       "67117                    54.0                   178.0  \n",
       "67118                    56.0                   175.0  \n",
       "\n",
       "[67119 rows x 6 columns]"
      ]
     },
     "execution_count": 52,
     "metadata": {},
     "output_type": "execute_result"
    }
   ],
   "source": [
    "df = df.dropna(how='any')  \n",
    "df['data'] = df['data'].apply(lambda x: pd.to_datetime(x))\n",
    "df.reset_index(drop = True)"
   ]
  },
  {
   "cell_type": "code",
   "execution_count": 53,
   "metadata": {},
   "outputs": [
    {
     "data": {
      "text/html": [
       "<div>\n",
       "<style scoped>\n",
       "    .dataframe tbody tr th:only-of-type {\n",
       "        vertical-align: middle;\n",
       "    }\n",
       "\n",
       "    .dataframe tbody tr th {\n",
       "        vertical-align: top;\n",
       "    }\n",
       "\n",
       "    .dataframe thead th {\n",
       "        text-align: right;\n",
       "    }\n",
       "</style>\n",
       "<table border=\"1\" class=\"dataframe\">\n",
       "  <thead>\n",
       "    <tr style=\"text-align: right;\">\n",
       "      <th></th>\n",
       "      <th>rain_taio</th>\n",
       "      <th>river_level_taio</th>\n",
       "      <th>rain_ituporanga</th>\n",
       "      <th>river_level_ituporanga</th>\n",
       "      <th>river_level_rio_do_sul</th>\n",
       "    </tr>\n",
       "  </thead>\n",
       "  <tbody>\n",
       "    <tr>\n",
       "      <th>rain_taio</th>\n",
       "      <td>1.000000</td>\n",
       "      <td>0.005800</td>\n",
       "      <td>0.140605</td>\n",
       "      <td>0.012642</td>\n",
       "      <td>-0.000536</td>\n",
       "    </tr>\n",
       "    <tr>\n",
       "      <th>river_level_taio</th>\n",
       "      <td>0.005800</td>\n",
       "      <td>1.000000</td>\n",
       "      <td>0.018446</td>\n",
       "      <td>0.811105</td>\n",
       "      <td>0.945354</td>\n",
       "    </tr>\n",
       "    <tr>\n",
       "      <th>rain_ituporanga</th>\n",
       "      <td>0.140605</td>\n",
       "      <td>0.018446</td>\n",
       "      <td>1.000000</td>\n",
       "      <td>0.035569</td>\n",
       "      <td>0.021666</td>\n",
       "    </tr>\n",
       "    <tr>\n",
       "      <th>river_level_ituporanga</th>\n",
       "      <td>0.012642</td>\n",
       "      <td>0.811105</td>\n",
       "      <td>0.035569</td>\n",
       "      <td>1.000000</td>\n",
       "      <td>0.893384</td>\n",
       "    </tr>\n",
       "    <tr>\n",
       "      <th>river_level_rio_do_sul</th>\n",
       "      <td>-0.000536</td>\n",
       "      <td>0.945354</td>\n",
       "      <td>0.021666</td>\n",
       "      <td>0.893384</td>\n",
       "      <td>1.000000</td>\n",
       "    </tr>\n",
       "  </tbody>\n",
       "</table>\n",
       "</div>"
      ],
      "text/plain": [
       "                        rain_taio  river_level_taio  rain_ituporanga  \\\n",
       "rain_taio                1.000000          0.005800         0.140605   \n",
       "river_level_taio         0.005800          1.000000         0.018446   \n",
       "rain_ituporanga          0.140605          0.018446         1.000000   \n",
       "river_level_ituporanga   0.012642          0.811105         0.035569   \n",
       "river_level_rio_do_sul  -0.000536          0.945354         0.021666   \n",
       "\n",
       "                        river_level_ituporanga  river_level_rio_do_sul  \n",
       "rain_taio                             0.012642               -0.000536  \n",
       "river_level_taio                      0.811105                0.945354  \n",
       "rain_ituporanga                       0.035569                0.021666  \n",
       "river_level_ituporanga                1.000000                0.893384  \n",
       "river_level_rio_do_sul                0.893384                1.000000  "
      ]
     },
     "execution_count": 53,
     "metadata": {},
     "output_type": "execute_result"
    }
   ],
   "source": [
    "df.corr()"
   ]
  },
  {
   "cell_type": "markdown",
   "metadata": {},
   "source": [
    "## Estabelecendo a correlação entre as variáveis"
   ]
  },
  {
   "cell_type": "code",
   "execution_count": 54,
   "metadata": {},
   "outputs": [
    {
     "data": {
      "text/plain": [
       "river_level_rio_do_sul    1.000000\n",
       "river_level_taio          0.945354\n",
       "river_level_ituporanga    0.893384\n",
       "rain_ituporanga           0.021666\n",
       "rain_taio                -0.000536\n",
       "Name: river_level_rio_do_sul, dtype: float64"
      ]
     },
     "execution_count": 54,
     "metadata": {},
     "output_type": "execute_result"
    }
   ],
   "source": [
    "df.corr().loc['river_level_rio_do_sul'].sort_values(ascending=False)"
   ]
  },
  {
   "cell_type": "markdown",
   "metadata": {},
   "source": [
    "## Análise Exploratória"
   ]
  },
  {
   "cell_type": "code",
   "execution_count": 55,
   "metadata": {},
   "outputs": [
    {
     "data": {
      "text/plain": [
       "array([[<matplotlib.axes._subplots.AxesSubplot object at 0x7fb735b85940>,\n",
       "        <matplotlib.axes._subplots.AxesSubplot object at 0x7fb73acfa430>],\n",
       "       [<matplotlib.axes._subplots.AxesSubplot object at 0x7fb73566ddf0>,\n",
       "        <matplotlib.axes._subplots.AxesSubplot object at 0x7fb72d1194c0>],\n",
       "       [<matplotlib.axes._subplots.AxesSubplot object at 0x7fb738750d30>,\n",
       "        <matplotlib.axes._subplots.AxesSubplot object at 0x7fb73171d580>]],\n",
       "      dtype=object)"
      ]
     },
     "execution_count": 55,
     "metadata": {},
     "output_type": "execute_result"
    },
    {
     "data": {
      "image/png": "[encoded data removed]",
      "text/plain": [
       "<Figure size 1440x720 with 6 Axes>"
      ]
     },
     "metadata": {},
     "output_type": "display_data"
    }
   ],
   "source": [
    "df.hist(figsize=(20, 10))"
   ]
  },
  {
   "cell_type": "code",
   "execution_count": 56,
   "metadata": {},
   "outputs": [
    {
     "data": {
      "text/plain": [
       "<matplotlib.axes._subplots.AxesSubplot at 0x7fb73836b940>"
      ]
     },
     "execution_count": 56,
     "metadata": {},
     "output_type": "execute_result"
    },
    {
     "data": {
      "image/png": "[encoded data removed]",
      "text/plain": [
       "<Figure size 432x288 with 1 Axes>"
      ]
     },
     "metadata": {},
     "output_type": "display_data"
    }
   ],
   "source": [
    "df_plot = df[['river_level_taio', 'river_level_rio_do_sul', 'river_level_ituporanga']]\n",
    "df_plot.plot.line()"
   ]
  },
  {
   "cell_type": "code",
   "execution_count": 57,
   "metadata": {},
   "outputs": [
    {
     "data": {
      "text/plain": [
       "<matplotlib.axes._subplots.AxesSubplot at 0x7fb7334e0670>"
      ]
     },
     "execution_count": 57,
     "metadata": {},
     "output_type": "execute_result"
    },
    {
     "data": {
      "image/png": "[encoded data removed]",
      "text/plain": [
       "<Figure size 432x288 with 1 Axes>"
      ]
     },
     "metadata": {},
     "output_type": "display_data"
    }
   ],
   "source": [
    "df_plot.plot.box()"
   ]
  },
  {
   "cell_type": "code",
   "execution_count": 58,
   "metadata": {},
   "outputs": [
    {
     "data": {
      "text/plain": [
       "<matplotlib.axes._subplots.AxesSubplot at 0x7fb7337b7af0>"
      ]
     },
     "execution_count": 58,
     "metadata": {},
     "output_type": "execute_result"
    },
    {
     "data": {
      "image/png": "[encoded data removed]",
      "text/plain": [
       "<Figure size 432x288 with 1 Axes>"
      ]
     },
     "metadata": {},
     "output_type": "display_data"
    }
   ],
   "source": [
    "# Relação tempo x nível do rio em Rio do Sul\n",
    "sns.lineplot(data=df, x='data', y='river_level_rio_do_sul')"
   ]
  },
  {
   "cell_type": "code",
   "execution_count": 59,
   "metadata": {},
   "outputs": [
    {
     "data": {
      "text/plain": [
       "<matplotlib.axes._subplots.AxesSubplot at 0x7fb733b014c0>"
      ]
     },
     "execution_count": 59,
     "metadata": {},
     "output_type": "execute_result"
    },
    {
     "data": {
      "image/png": "[encoded data removed]",
      "text/plain": [
       "<Figure size 432x288 with 1 Axes>"
      ]
     },
     "metadata": {},
     "output_type": "display_data"
    }
   ],
   "source": [
    "# Relação tempo x chuva em Taió\n",
    "sns.lineplot(data=df, x='data', y='rain_taio')"
   ]
  },
  {
   "cell_type": "code",
   "execution_count": 60,
   "metadata": {},
   "outputs": [
    {
     "data": {
      "text/plain": [
       "<matplotlib.axes._subplots.AxesSubplot at 0x7fb738285430>"
      ]
     },
     "execution_count": 60,
     "metadata": {},
     "output_type": "execute_result"
    },
    {
     "data": {
      "image/png": "[encoded data removed]",
      "text/plain": [
       "<Figure size 432x288 with 1 Axes>"
      ]
     },
     "metadata": {},
     "output_type": "display_data"
    }
   ],
   "source": [
    "# Relação tempo x nível Ituporanga\n",
    "sns.lineplot(data=df, x='data', y='river_level_ituporanga')"
   ]
  },
  {
   "cell_type": "code",
   "execution_count": 61,
   "metadata": {},
   "outputs": [
    {
     "data": {
      "text/plain": [
       "<matplotlib.axes._subplots.AxesSubplot at 0x7fb738357ac0>"
      ]
     },
     "execution_count": 61,
     "metadata": {},
     "output_type": "execute_result"
    },
    {
     "data": {
      "image/png": "[encoded data removed]",
      "text/plain": [
       "<Figure size 432x288 with 1 Axes>"
      ]
     },
     "metadata": {},
     "output_type": "display_data"
    }
   ],
   "source": [
    "# Relação tempo x chuva em Ituporanga\n",
    "sns.lineplot(data=df, x='data', y='rain_ituporanga')"
   ]
  },
  {
   "cell_type": "markdown",
   "metadata": {},
   "source": [
    "## Aplicando regressão linear"
   ]
  },
  {
   "cell_type": "code",
   "execution_count": 62,
   "metadata": {},
   "outputs": [],
   "source": [
    "# Teste utilizando divisão manual e ordenada, resultados semelhantes\n",
    "train_size = 0.7\n",
    "train_end = int(len(df)*train_size)\n",
    "\n",
    "df_train = df[:train_end]\n",
    "dfx_train = df_train[['river_level_taio', 'river_level_ituporanga', 'rain_ituporanga']]\n",
    "dfy_train = df_train[['river_level_rio_do_sul']]\n",
    "\n",
    "df_test = df[train_end:]\n",
    "dfx_test = df_test[['river_level_taio', 'river_level_ituporanga', 'rain_ituporanga']]\n",
    "dfy_test = df_test[['river_level_rio_do_sul']]"
   ]
  },
  {
   "cell_type": "code",
   "execution_count": 63,
   "metadata": {},
   "outputs": [],
   "source": [
    "linear_regression = LinearRegression()"
   ]
  },
  {
   "cell_type": "code",
   "execution_count": 64,
   "metadata": {},
   "outputs": [
    {
     "data": {
      "text/plain": [
       "LinearRegression()"
      ]
     },
     "execution_count": 64,
     "metadata": {},
     "output_type": "execute_result"
    }
   ],
   "source": [
    "linear_regression.fit(dfx_train.values, dfy_train.values)"
   ]
  },
  {
   "cell_type": "code",
   "execution_count": 65,
   "metadata": {},
   "outputs": [
    {
     "data": {
      "text/plain": [
       "array([[461.89510472]])"
      ]
     },
     "execution_count": 65,
     "metadata": {},
     "output_type": "execute_result"
    }
   ],
   "source": [
    "# Teste de predição\n",
    "linear_regression.predict([[573, 114, 0.8]])"
   ]
  },
  {
   "cell_type": "code",
   "execution_count": 66,
   "metadata": {},
   "outputs": [],
   "source": [
    "predict_values = linear_regression.predict(dfx_test.values)"
   ]
  },
  {
   "cell_type": "code",
   "execution_count": 67,
   "metadata": {},
   "outputs": [
    {
     "data": {
      "image/png": "[encoded data removed]",
      "text/plain": [
       "<Figure size 432x288 with 1 Axes>"
      ]
     },
     "metadata": {},
     "output_type": "display_data"
    }
   ],
   "source": [
    "import matplotlib.pyplot as plt\n",
    "\n",
    "plt.scatter(dfy_test.values, predict_values, s=10, c= ['green'], alpha=0.5)\n",
    "\n",
    "plt.xlabel(\"Nível Real\")\n",
    "plt.ylabel(\"Previsão Nível\")\n",
    "plt.title(\"Nível Real do Rio vs Previsão\")\n",
    "\n",
    "plt.show()"
   ]
  },
  {
   "cell_type": "markdown",
   "metadata": {},
   "source": [
    "## Métricas"
   ]
  },
  {
   "cell_type": "code",
   "execution_count": 68,
   "metadata": {},
   "outputs": [
    {
     "name": "stdout",
     "output_type": "stream",
     "text": [
      "Valor do R²  0.9545334186284413\n"
     ]
    }
   ],
   "source": [
    "from sklearn.metrics import r2_score \n",
    "\n",
    "R2 = r2_score(dfy_test.values,predict_values)\n",
    "print(\"Valor do R² \", R2)"
   ]
  },
  {
   "cell_type": "code",
   "execution_count": 69,
   "metadata": {},
   "outputs": [
    {
     "name": "stdout",
     "output_type": "stream",
     "text": [
      "Valor do MAPE 8.71%\n"
     ]
    }
   ],
   "source": [
    "MAPE = np.mean(np.abs((dfy_test - predict_values) / dfy_test), axis=0) * 100\n",
    "\n",
    "print(\"Valor do MAPE %.2f\" %MAPE+\"%\")"
   ]
  },
  {
   "cell_type": "code",
   "execution_count": 70,
   "metadata": {},
   "outputs": [
    {
     "name": "stdout",
     "output_type": "stream",
     "text": [
      "Valor do RMSE: 6.06\n"
     ]
    },
    {
     "name": "stderr",
     "output_type": "stream",
     "text": [
      "/home/xavier/.local/lib/python3.8/site-packages/sklearn/metrics/_regression.py:95: FutureWarning: Arrays of bytes/strings is being converted to decimal numbers if dtype='numeric'. This behavior is deprecated in 0.24 and will be removed in 1.1 (renaming of 0.26). Please convert your data to numeric values explicitly instead.\n",
      "  y_true = check_array(y_true, ensure_2d=False, dtype=dtype)\n"
     ]
    }
   ],
   "source": [
    "from sklearn.metrics import mean_squared_error\n",
    "\n",
    "RMSE = mean_squared_error(dfy_test,predict_values,squared=False)\n",
    "RMSE = np.sqrt(RMSE) \n",
    "print(\"Valor do RMSE: %.2f\" %RMSE)"
   ]
  }
 ],
 "metadata": {
  "kernelspec": {
   "display_name": "Python 3.10.4 64-bit",
   "language": "python",
   "name": "python3"
  },
  "language_info": {
   "codemirror_mode": {
    "name": "ipython",
    "version": 3
   },
   "file_extension": ".py",
   "mimetype": "text/x-python",
   "name": "python",
   "nbconvert_exporter": "python",
   "pygments_lexer": "ipython3",
   "version": "3.8.10"
  },
  "orig_nbformat": 4,
  "vscode": {
   "interpreter": {
    "hash": "31f2aee4e71d21fbe5cf8b01ff0e069b9275f58929596ceb00d14d90e3e16cd6"
   }
  }
 },
 "nbformat": 4,
 "nbformat_minor": 2
}
