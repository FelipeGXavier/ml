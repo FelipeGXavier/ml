{
 "cells": [
  {
   "cell_type": "code",
   "execution_count": 3,
   "metadata": {},
   "outputs": [],
   "source": [
    "import pandas as pd\n",
    "import numpy as np\n",
    "from sklearn.model_selection import train_test_split\n",
    "from sklearn.linear_model import LinearRegression"
   ]
  },
  {
   "cell_type": "code",
   "execution_count": 4,
   "metadata": {},
   "outputs": [],
   "source": [
    "level_sensor_column_name = '.........Data e Hora..........Nível (cm)'\n",
    "rain_sensor_column_name = '.........Data e Hora..........Chuva (mm)'"
   ]
  },
  {
   "cell_type": "code",
   "execution_count": 5,
   "metadata": {},
   "outputs": [],
   "source": [
    "def get_df_from_txt(filename, header, target):\n",
    "    df = pd.read_table(filename)\n",
    "    df_info = df[header].str.split('                 ')\n",
    "    df['data'] = df_info.str.get(0).transform(lambda x: x.strip())\n",
    "    df[target] = df_info.str.get(1)\n",
    "    df[target] = pd.to_numeric(df[target], errors='coerce').astype('Float64')\n",
    "    df.drop(header, inplace=True, axis=1)\n",
    "    return df"
   ]
  },
  {
   "cell_type": "code",
   "execution_count": 6,
   "metadata": {},
   "outputs": [],
   "source": [
    "# Taió\n",
    "rain_taio = get_df_from_txt('83050000TAIÓ_2962005-1442014-chuva.txt', rain_sensor_column_name, 'rain_taio')\n",
    "river_level_taio = get_df_from_txt('83050000TAIÓ_2962005-1442014-nível.txt', level_sensor_column_name, 'river_level_taio')"
   ]
  },
  {
   "cell_type": "code",
   "execution_count": 7,
   "metadata": {},
   "outputs": [],
   "source": [
    "# Ituporanga\n",
    "rain_ituporanga = get_df_from_txt('83250000ITUPORANGA_3172005-1442014-chuva.txt', rain_sensor_column_name, 'rain_ituporanga')\n",
    "river_level_ituporanga = get_df_from_txt('83250000ITUPORANGA_2962005-1032014-nível.txt', level_sensor_column_name, 'river_level_ituporanga')"
   ]
  },
  {
   "cell_type": "code",
   "execution_count": 8,
   "metadata": {},
   "outputs": [],
   "source": [
    "# Rio do Sul\n",
    "river_level_rio_do_sul = get_df_from_txt('83300200RIODOSUL-NOVO_2982005-1422014 -nível.txt', level_sensor_column_name, 'river_level_rio_do_sul')"
   ]
  },
  {
   "cell_type": "code",
   "execution_count": 9,
   "metadata": {},
   "outputs": [
    {
     "name": "stdout",
     "output_type": "stream",
     "text": [
      "<class 'pandas.core.frame.DataFrame'>\n",
      "Int64Index: 138231 entries, 0 to 138230\n",
      "Data columns (total 6 columns):\n",
      " #   Column                  Non-Null Count   Dtype  \n",
      "---  ------                  --------------   -----  \n",
      " 0   data                    138231 non-null  object \n",
      " 1   rain_taio               122983 non-null  Float64\n",
      " 2   river_level_taio        107276 non-null  Float64\n",
      " 3   rain_ituporanga         114151 non-null  Float64\n",
      " 4   river_level_ituporanga  83710 non-null   Float64\n",
      " 5   river_level_rio_do_sul  116938 non-null  Float64\n",
      "dtypes: Float64(5), object(1)\n",
      "memory usage: 8.0+ MB\n"
     ]
    }
   ],
   "source": [
    "df = pd.merge(rain_taio, river_level_taio, how = 'outer')\n",
    "df = pd.merge(df, rain_ituporanga, how = 'outer')\n",
    "df = pd.merge(df, river_level_ituporanga, how = 'outer')\n",
    "df = pd.merge(df, river_level_rio_do_sul, how = 'outer')\n",
    "df.info()"
   ]
  },
  {
   "cell_type": "code",
   "execution_count": 10,
   "metadata": {},
   "outputs": [
    {
     "data": {
      "text/html": [
       "<div>\n",
       "<style scoped>\n",
       "    .dataframe tbody tr th:only-of-type {\n",
       "        vertical-align: middle;\n",
       "    }\n",
       "\n",
       "    .dataframe tbody tr th {\n",
       "        vertical-align: top;\n",
       "    }\n",
       "\n",
       "    .dataframe thead th {\n",
       "        text-align: right;\n",
       "    }\n",
       "</style>\n",
       "<table border=\"1\" class=\"dataframe\">\n",
       "  <thead>\n",
       "    <tr style=\"text-align: right;\">\n",
       "      <th></th>\n",
       "      <th>data</th>\n",
       "      <th>rain_taio</th>\n",
       "      <th>river_level_taio</th>\n",
       "      <th>rain_ituporanga</th>\n",
       "      <th>river_level_ituporanga</th>\n",
       "      <th>river_level_rio_do_sul</th>\n",
       "    </tr>\n",
       "  </thead>\n",
       "  <tbody>\n",
       "    <tr>\n",
       "      <th>0</th>\n",
       "      <td>29/06/2005 00:00:00</td>\n",
       "      <td>&lt;NA&gt;</td>\n",
       "      <td>&lt;NA&gt;</td>\n",
       "      <td>&lt;NA&gt;</td>\n",
       "      <td>&lt;NA&gt;</td>\n",
       "      <td>&lt;NA&gt;</td>\n",
       "    </tr>\n",
       "    <tr>\n",
       "      <th>1</th>\n",
       "      <td>29/06/2005 01:00:00</td>\n",
       "      <td>&lt;NA&gt;</td>\n",
       "      <td>&lt;NA&gt;</td>\n",
       "      <td>&lt;NA&gt;</td>\n",
       "      <td>&lt;NA&gt;</td>\n",
       "      <td>&lt;NA&gt;</td>\n",
       "    </tr>\n",
       "    <tr>\n",
       "      <th>2</th>\n",
       "      <td>29/06/2005 02:00:00</td>\n",
       "      <td>&lt;NA&gt;</td>\n",
       "      <td>&lt;NA&gt;</td>\n",
       "      <td>&lt;NA&gt;</td>\n",
       "      <td>&lt;NA&gt;</td>\n",
       "      <td>&lt;NA&gt;</td>\n",
       "    </tr>\n",
       "    <tr>\n",
       "      <th>3</th>\n",
       "      <td>29/06/2005 03:00:00</td>\n",
       "      <td>&lt;NA&gt;</td>\n",
       "      <td>110.0</td>\n",
       "      <td>&lt;NA&gt;</td>\n",
       "      <td>&lt;NA&gt;</td>\n",
       "      <td>107.0</td>\n",
       "    </tr>\n",
       "    <tr>\n",
       "      <th>4</th>\n",
       "      <td>29/06/2005 04:00:00</td>\n",
       "      <td>&lt;NA&gt;</td>\n",
       "      <td>&lt;NA&gt;</td>\n",
       "      <td>&lt;NA&gt;</td>\n",
       "      <td>&lt;NA&gt;</td>\n",
       "      <td>108.0</td>\n",
       "    </tr>\n",
       "  </tbody>\n",
       "</table>\n",
       "</div>"
      ],
      "text/plain": [
       "                  data  rain_taio  river_level_taio  rain_ituporanga  \\\n",
       "0  29/06/2005 00:00:00       <NA>              <NA>             <NA>   \n",
       "1  29/06/2005 01:00:00       <NA>              <NA>             <NA>   \n",
       "2  29/06/2005 02:00:00       <NA>              <NA>             <NA>   \n",
       "3  29/06/2005 03:00:00       <NA>             110.0             <NA>   \n",
       "4  29/06/2005 04:00:00       <NA>              <NA>             <NA>   \n",
       "\n",
       "   river_level_ituporanga  river_level_rio_do_sul  \n",
       "0                    <NA>                    <NA>  \n",
       "1                    <NA>                    <NA>  \n",
       "2                    <NA>                    <NA>  \n",
       "3                    <NA>                   107.0  \n",
       "4                    <NA>                   108.0  "
      ]
     },
     "execution_count": 10,
     "metadata": {},
     "output_type": "execute_result"
    }
   ],
   "source": [
    "df.head(5)"
   ]
  },
  {
   "cell_type": "code",
   "execution_count": 11,
   "metadata": {},
   "outputs": [
    {
     "data": {
      "text/html": [
       "<div>\n",
       "<style scoped>\n",
       "    .dataframe tbody tr th:only-of-type {\n",
       "        vertical-align: middle;\n",
       "    }\n",
       "\n",
       "    .dataframe tbody tr th {\n",
       "        vertical-align: top;\n",
       "    }\n",
       "\n",
       "    .dataframe thead th {\n",
       "        text-align: right;\n",
       "    }\n",
       "</style>\n",
       "<table border=\"1\" class=\"dataframe\">\n",
       "  <thead>\n",
       "    <tr style=\"text-align: right;\">\n",
       "      <th></th>\n",
       "      <th>data</th>\n",
       "      <th>rain_taio</th>\n",
       "      <th>river_level_taio</th>\n",
       "      <th>rain_ituporanga</th>\n",
       "      <th>river_level_ituporanga</th>\n",
       "      <th>river_level_rio_do_sul</th>\n",
       "    </tr>\n",
       "  </thead>\n",
       "  <tbody>\n",
       "    <tr>\n",
       "      <th>678</th>\n",
       "      <td>31/07/2005 21:00:00</td>\n",
       "      <td>0.0</td>\n",
       "      <td>98.0</td>\n",
       "      <td>3.0</td>\n",
       "      <td>30.0</td>\n",
       "      <td>171.0</td>\n",
       "    </tr>\n",
       "    <tr>\n",
       "      <th>679</th>\n",
       "      <td>31/07/2005 22:00:00</td>\n",
       "      <td>0.0</td>\n",
       "      <td>98.0</td>\n",
       "      <td>12.0</td>\n",
       "      <td>39.0</td>\n",
       "      <td>171.0</td>\n",
       "    </tr>\n",
       "    <tr>\n",
       "      <th>680</th>\n",
       "      <td>31/07/2005 23:00:00</td>\n",
       "      <td>0.0</td>\n",
       "      <td>97.0</td>\n",
       "      <td>19.0</td>\n",
       "      <td>59.0</td>\n",
       "      <td>171.0</td>\n",
       "    </tr>\n",
       "    <tr>\n",
       "      <th>681</th>\n",
       "      <td>01/08/2005 00:00:00</td>\n",
       "      <td>0.0</td>\n",
       "      <td>97.0</td>\n",
       "      <td>5.0</td>\n",
       "      <td>82.0</td>\n",
       "      <td>170.0</td>\n",
       "    </tr>\n",
       "    <tr>\n",
       "      <th>684</th>\n",
       "      <td>01/08/2005 03:00:00</td>\n",
       "      <td>0.0</td>\n",
       "      <td>97.0</td>\n",
       "      <td>1.0</td>\n",
       "      <td>27.0</td>\n",
       "      <td>170.0</td>\n",
       "    </tr>\n",
       "    <tr>\n",
       "      <th>...</th>\n",
       "      <td>...</td>\n",
       "      <td>...</td>\n",
       "      <td>...</td>\n",
       "      <td>...</td>\n",
       "      <td>...</td>\n",
       "      <td>...</td>\n",
       "    </tr>\n",
       "    <tr>\n",
       "      <th>130388</th>\n",
       "      <td>24/02/2014 15:30:00</td>\n",
       "      <td>0.0</td>\n",
       "      <td>142.0</td>\n",
       "      <td>0.0</td>\n",
       "      <td>87.0</td>\n",
       "      <td>174.0</td>\n",
       "    </tr>\n",
       "    <tr>\n",
       "      <th>130419</th>\n",
       "      <td>25/02/2014 01:15:00</td>\n",
       "      <td>0.0</td>\n",
       "      <td>152.0</td>\n",
       "      <td>0.0</td>\n",
       "      <td>54.0</td>\n",
       "      <td>180.0</td>\n",
       "    </tr>\n",
       "    <tr>\n",
       "      <th>130421</th>\n",
       "      <td>25/02/2014 01:45:00</td>\n",
       "      <td>0.0</td>\n",
       "      <td>152.0</td>\n",
       "      <td>0.0</td>\n",
       "      <td>54.0</td>\n",
       "      <td>179.0</td>\n",
       "    </tr>\n",
       "    <tr>\n",
       "      <th>130424</th>\n",
       "      <td>25/02/2014 02:30:00</td>\n",
       "      <td>0.0</td>\n",
       "      <td>151.0</td>\n",
       "      <td>0.0</td>\n",
       "      <td>54.0</td>\n",
       "      <td>178.0</td>\n",
       "    </tr>\n",
       "    <tr>\n",
       "      <th>130439</th>\n",
       "      <td>25/02/2014 06:15:00</td>\n",
       "      <td>0.0</td>\n",
       "      <td>151.0</td>\n",
       "      <td>0.0</td>\n",
       "      <td>56.0</td>\n",
       "      <td>175.0</td>\n",
       "    </tr>\n",
       "  </tbody>\n",
       "</table>\n",
       "<p>66962 rows × 6 columns</p>\n",
       "</div>"
      ],
      "text/plain": [
       "                       data  rain_taio  river_level_taio  rain_ituporanga  \\\n",
       "678     31/07/2005 21:00:00        0.0              98.0              3.0   \n",
       "679     31/07/2005 22:00:00        0.0              98.0             12.0   \n",
       "680     31/07/2005 23:00:00        0.0              97.0             19.0   \n",
       "681     01/08/2005 00:00:00        0.0              97.0              5.0   \n",
       "684     01/08/2005 03:00:00        0.0              97.0              1.0   \n",
       "...                     ...        ...               ...              ...   \n",
       "130388  24/02/2014 15:30:00        0.0             142.0              0.0   \n",
       "130419  25/02/2014 01:15:00        0.0             152.0              0.0   \n",
       "130421  25/02/2014 01:45:00        0.0             152.0              0.0   \n",
       "130424  25/02/2014 02:30:00        0.0             151.0              0.0   \n",
       "130439  25/02/2014 06:15:00        0.0             151.0              0.0   \n",
       "\n",
       "        river_level_ituporanga  river_level_rio_do_sul  \n",
       "678                       30.0                   171.0  \n",
       "679                       39.0                   171.0  \n",
       "680                       59.0                   171.0  \n",
       "681                       82.0                   170.0  \n",
       "684                       27.0                   170.0  \n",
       "...                        ...                     ...  \n",
       "130388                    87.0                   174.0  \n",
       "130419                    54.0                   180.0  \n",
       "130421                    54.0                   179.0  \n",
       "130424                    54.0                   178.0  \n",
       "130439                    56.0                   175.0  \n",
       "\n",
       "[66962 rows x 6 columns]"
      ]
     },
     "execution_count": 11,
     "metadata": {},
     "output_type": "execute_result"
    }
   ],
   "source": [
    "df = df.dropna(how='any')  \n",
    "df"
   ]
  },
  {
   "cell_type": "code",
   "execution_count": 12,
   "metadata": {},
   "outputs": [
    {
     "data": {
      "text/html": [
       "<div>\n",
       "<style scoped>\n",
       "    .dataframe tbody tr th:only-of-type {\n",
       "        vertical-align: middle;\n",
       "    }\n",
       "\n",
       "    .dataframe tbody tr th {\n",
       "        vertical-align: top;\n",
       "    }\n",
       "\n",
       "    .dataframe thead th {\n",
       "        text-align: right;\n",
       "    }\n",
       "</style>\n",
       "<table border=\"1\" class=\"dataframe\">\n",
       "  <thead>\n",
       "    <tr style=\"text-align: right;\">\n",
       "      <th></th>\n",
       "      <th>rain_taio</th>\n",
       "      <th>river_level_taio</th>\n",
       "      <th>rain_ituporanga</th>\n",
       "      <th>river_level_ituporanga</th>\n",
       "      <th>river_level_rio_do_sul</th>\n",
       "    </tr>\n",
       "  </thead>\n",
       "  <tbody>\n",
       "    <tr>\n",
       "      <th>rain_taio</th>\n",
       "      <td>1.000000</td>\n",
       "      <td>0.007924</td>\n",
       "      <td>0.211639</td>\n",
       "      <td>0.018613</td>\n",
       "      <td>0.003362</td>\n",
       "    </tr>\n",
       "    <tr>\n",
       "      <th>river_level_taio</th>\n",
       "      <td>0.007924</td>\n",
       "      <td>1.000000</td>\n",
       "      <td>0.032540</td>\n",
       "      <td>0.802609</td>\n",
       "      <td>0.944459</td>\n",
       "    </tr>\n",
       "    <tr>\n",
       "      <th>rain_ituporanga</th>\n",
       "      <td>0.211639</td>\n",
       "      <td>0.032540</td>\n",
       "      <td>1.000000</td>\n",
       "      <td>0.063285</td>\n",
       "      <td>0.040768</td>\n",
       "    </tr>\n",
       "    <tr>\n",
       "      <th>river_level_ituporanga</th>\n",
       "      <td>0.018613</td>\n",
       "      <td>0.802609</td>\n",
       "      <td>0.063285</td>\n",
       "      <td>1.000000</td>\n",
       "      <td>0.886184</td>\n",
       "    </tr>\n",
       "    <tr>\n",
       "      <th>river_level_rio_do_sul</th>\n",
       "      <td>0.003362</td>\n",
       "      <td>0.944459</td>\n",
       "      <td>0.040768</td>\n",
       "      <td>0.886184</td>\n",
       "      <td>1.000000</td>\n",
       "    </tr>\n",
       "  </tbody>\n",
       "</table>\n",
       "</div>"
      ],
      "text/plain": [
       "                        rain_taio  river_level_taio  rain_ituporanga  \\\n",
       "rain_taio                1.000000          0.007924         0.211639   \n",
       "river_level_taio         0.007924          1.000000         0.032540   \n",
       "rain_ituporanga          0.211639          0.032540         1.000000   \n",
       "river_level_ituporanga   0.018613          0.802609         0.063285   \n",
       "river_level_rio_do_sul   0.003362          0.944459         0.040768   \n",
       "\n",
       "                        river_level_ituporanga  river_level_rio_do_sul  \n",
       "rain_taio                             0.018613                0.003362  \n",
       "river_level_taio                      0.802609                0.944459  \n",
       "rain_ituporanga                       0.063285                0.040768  \n",
       "river_level_ituporanga                1.000000                0.886184  \n",
       "river_level_rio_do_sul                0.886184                1.000000  "
      ]
     },
     "execution_count": 12,
     "metadata": {},
     "output_type": "execute_result"
    }
   ],
   "source": [
    "df.corr()"
   ]
  },
  {
   "cell_type": "code",
   "execution_count": 13,
   "metadata": {},
   "outputs": [
    {
     "data": {
      "text/plain": [
       "river_level_rio_do_sul    1.000000\n",
       "river_level_taio          0.944459\n",
       "river_level_ituporanga    0.886184\n",
       "rain_ituporanga           0.040768\n",
       "rain_taio                 0.003362\n",
       "Name: river_level_rio_do_sul, dtype: float64"
      ]
     },
     "execution_count": 13,
     "metadata": {},
     "output_type": "execute_result"
    }
   ],
   "source": [
    "df.corr().loc['river_level_rio_do_sul'].sort_values(ascending=False)"
   ]
  },
  {
   "cell_type": "code",
   "execution_count": 14,
   "metadata": {},
   "outputs": [],
   "source": [
    "x = df[['river_level_taio', 'river_level_ituporanga', 'rain_ituporanga']]\n",
    "y = df[['river_level_rio_do_sul']]\n",
    "x_train, x_test, y_train, y_test = train_test_split(x, y, train_size = 0.8, test_size = 0.2)"
   ]
  },
  {
   "cell_type": "code",
   "execution_count": 15,
   "metadata": {},
   "outputs": [
    {
     "name": "stdout",
     "output_type": "stream",
     "text": [
      "(53569, 3)\n",
      "(13393, 3)\n",
      "(53569, 1)\n",
      "(13393, 1)\n"
     ]
    }
   ],
   "source": [
    "print(x_train.shape)\n",
    "print(x_test.shape)\n",
    "print(y_train.shape)\n",
    "print(y_test.shape)"
   ]
  },
  {
   "cell_type": "code",
   "execution_count": 16,
   "metadata": {},
   "outputs": [],
   "source": [
    "linear_regression = LinearRegression()"
   ]
  },
  {
   "cell_type": "code",
   "execution_count": 17,
   "metadata": {},
   "outputs": [
    {
     "data": {
      "text/plain": [
       "LinearRegression()"
      ]
     },
     "execution_count": 17,
     "metadata": {},
     "output_type": "execute_result"
    }
   ],
   "source": [
    "linear_regression.fit(x_train.values, y_train.values)"
   ]
  },
  {
   "cell_type": "code",
   "execution_count": 18,
   "metadata": {},
   "outputs": [
    {
     "data": {
      "text/plain": [
       "array([[479.34206553]])"
      ]
     },
     "execution_count": 18,
     "metadata": {},
     "output_type": "execute_result"
    }
   ],
   "source": [
    "linear_regression.predict([[573, 114, 0.8]])"
   ]
  },
  {
   "cell_type": "code",
   "execution_count": 19,
   "metadata": {},
   "outputs": [
    {
     "name": "stderr",
     "output_type": "stream",
     "text": [
      "/home/xavier/.local/lib/python3.8/site-packages/sklearn/base.py:443: UserWarning: X has feature names, but LinearRegression was fitted without feature names\n",
      "  warnings.warn(\n",
      "/home/xavier/.local/lib/python3.8/site-packages/sklearn/base.py:566: FutureWarning: Arrays of bytes/strings is being converted to decimal numbers if dtype='numeric'. This behavior is deprecated in 0.24 and will be removed in 1.1 (renaming of 0.26). Please convert your data to numeric values explicitly instead.\n",
      "  X = check_array(X, **check_params)\n"
     ]
    }
   ],
   "source": [
    "predict_values = linear_regression.predict(x_test)"
   ]
  },
  {
   "cell_type": "code",
   "execution_count": 38,
   "metadata": {},
   "outputs": [
    {
     "data": {
      "image/png": "[encoded data removed]",
      "text/plain": [
       "<Figure size 432x288 with 1 Axes>"
      ]
     },
     "metadata": {
      "needs_background": "light"
     },
     "output_type": "display_data"
    }
   ],
   "source": [
    "import matplotlib.pyplot as plt\n",
    "\n",
    "plt.scatter(y_test, predict_values, s=10, c= ['green'], alpha=0.5)\n",
    "\n",
    "plt.xlabel(\"Nível Real\")\n",
    "plt.ylabel(\"Previsão Nível\")\n",
    "plt.title(\"Nível Real do Rio vs Previsão\")\n",
    "\n",
    "plt.show()"
   ]
  },
  {
   "cell_type": "code",
   "execution_count": 21,
   "metadata": {},
   "outputs": [
    {
     "name": "stdout",
     "output_type": "stream",
     "text": [
      "0.9364255154335389\n"
     ]
    },
    {
     "name": "stderr",
     "output_type": "stream",
     "text": [
      "/home/xavier/.local/lib/python3.8/site-packages/sklearn/metrics/_regression.py:95: FutureWarning: Arrays of bytes/strings is being converted to decimal numbers if dtype='numeric'. This behavior is deprecated in 0.24 and will be removed in 1.1 (renaming of 0.26). Please convert your data to numeric values explicitly instead.\n",
      "  y_true = check_array(y_true, ensure_2d=False, dtype=dtype)\n"
     ]
    }
   ],
   "source": [
    "from sklearn.metrics import r2_score \n",
    "\n",
    "R2 = r2_score(y_test,predict_values)\n",
    "print(R2)"
   ]
  },
  {
   "cell_type": "code",
   "execution_count": 39,
   "metadata": {},
   "outputs": [
    {
     "name": "stdout",
     "output_type": "stream",
     "text": [
      "Valor do MAPE 8.83%\n"
     ]
    },
    {
     "name": "stderr",
     "output_type": "stream",
     "text": [
      "/home/xavier/.local/lib/python3.8/site-packages/numpy/core/fromnumeric.py:3472: FutureWarning: In a future version, DataFrame.mean(axis=None) will return a scalar mean over the entire DataFrame. To retain the old behavior, use 'frame.mean(axis=0)' or just 'frame.mean()'\n",
      "  return mean(axis=axis, dtype=dtype, out=out, **kwargs)\n"
     ]
    }
   ],
   "source": [
    "MAPE = np.mean(np.abs((y_test - predict_values) / y_test)) * 100\n",
    "\n",
    "print(\"Valor do MAPE %.2f\" %MAPE+\"%\")"
   ]
  }
 ],
 "metadata": {
  "kernelspec": {
   "display_name": "Python 3.8.10 64-bit",
   "language": "python",
   "name": "python3"
  },
  "language_info": {
   "codemirror_mode": {
    "name": "ipython",
    "version": 3
   },
   "file_extension": ".py",
   "mimetype": "text/x-python",
   "name": "python",
   "nbconvert_exporter": "python",
   "pygments_lexer": "ipython3",
   "version": "3.8.10"
  },
  "orig_nbformat": 4,
  "vscode": {
   "interpreter": {
    "hash": "916dbcbb3f70747c44a77c7bcd40155683ae19c65e1c03b4aa3499c5328201f1"
   }
  }
 },
 "nbformat": 4,
 "nbformat_minor": 2
}
